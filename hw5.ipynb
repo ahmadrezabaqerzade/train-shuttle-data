{
  "cells": [
    {
      "cell_type": "code",
      "execution_count": null,
      "metadata": {
        "id": "qlViecE-lF42"
      },
      "outputs": [],
      "source": [
        "#ahmadreza baqerzadeh homaee"
      ]
    },
    {
      "cell_type": "code",
      "execution_count": null,
      "metadata": {
        "id": "2aj7EyhzqIFy"
      },
      "outputs": [],
      "source": [
        "import torch as tc \n",
        "from torch import nn,optim \n",
        "from torchmetrics import Accuracy \n",
        "from torch.utils.data import DataLoader,TensorDataset \n",
        "import pandas as pd \n",
        "from sklearn.model_selection import train_test_split\n",
        "import matplotlib.pyplot as plt\n",
        "from tqdm import tqdm \n",
        "import csv\n",
        "from torch.utils.data import random_split"
      ]
    },
    {
      "cell_type": "code",
      "execution_count": null,
      "metadata": {
        "id": "AolGf4tyqpyf",
        "colab": {
          "base_uri": "https://localhost:8080/"
        },
        "outputId": "0131136a-78a6-4c28-9f47-d50746d5523f"
      },
      "outputs": [
        {
          "output_type": "stream",
          "name": "stdout",
          "text": [
            "gzip: /content/shuttle.trn.Z: No such file or directory\n"
          ]
        }
      ],
      "source": [
        "!uncompress /content/shuttle.trn.Z"
      ]
    },
    {
      "cell_type": "code",
      "execution_count": null,
      "metadata": {
        "id": "8EJi62QTq4MD"
      },
      "outputs": [],
      "source": [
        "def read_file(file):\n",
        "  with open(file, 'rb') as fh:\n",
        "      decompressed_data = fh.read()\n",
        "  list_data = decompressed_data.decode('utf-8').splitlines()\n",
        "  row=[]\n",
        "  for i in list_data:\n",
        "    col=[]\n",
        "    for j in i.split():\n",
        "        col.append(float(j))\n",
        "    row.append(col)\n",
        "  pd.DataFrame(row).to_csv('train.csv')\n",
        "\n",
        "read_file('shuttle.trn')\n",
        "train=pd.read_csv('train.csv')\n",
        "test=pd.read_csv('/content/shuttledata_test.csv')"
      ]
    },
    {
      "cell_type": "code",
      "execution_count": null,
      "metadata": {
        "id": "1YGUhgM8-mPB"
      },
      "outputs": [],
      "source": [
        "col=test.columns.values\n",
        "change=[]\n",
        "for i in col:\n",
        "  change.append(float(i))\n",
        "\n",
        "xtest=tc.cat((tc.FloatTensor(change).unsqueeze(dim=0),tc.FloatTensor(test.values)),dim=0)"
      ]
    },
    {
      "cell_type": "code",
      "execution_count": null,
      "metadata": {
        "id": "mersgiaMt5cF"
      },
      "outputs": [],
      "source": [
        "train.drop('Unnamed: 0',axis=1,inplace=True)"
      ]
    },
    {
      "cell_type": "code",
      "execution_count": null,
      "metadata": {
        "id": "Bga9JBo3vJ6I"
      },
      "outputs": [],
      "source": [
        "x=train.drop('9',axis=1)\n",
        "y=train['9']-1"
      ]
    },
    {
      "cell_type": "code",
      "execution_count": null,
      "metadata": {
        "id": "vNja16V2vLgH"
      },
      "outputs": [],
      "source": [
        "xtrain,xvalid,ytrain,yvalid=train_test_split(x,y,train_size=0.7,random_state=42)"
      ]
    },
    {
      "cell_type": "code",
      "execution_count": null,
      "metadata": {
        "id": "F-g_jUhxvZx2"
      },
      "outputs": [],
      "source": [
        "xtrain=tc.FloatTensor(xtrain.values)\n",
        "ytrain=tc.LongTensor(ytrain.values)\n",
        "xvalid=tc.FloatTensor(xvalid.values)\n",
        "yvalid=tc.LongTensor(yvalid.values)"
      ]
    },
    {
      "cell_type": "code",
      "execution_count": null,
      "metadata": {
        "id": "Tg9WH1kaxJ9d"
      },
      "outputs": [],
      "source": [
        "mean=xtrain.mean(dim=0)\n",
        "std=xtrain.std(dim=0)"
      ]
    },
    {
      "cell_type": "code",
      "execution_count": null,
      "metadata": {
        "id": "MBUsjEmu9Xmz"
      },
      "outputs": [],
      "source": [
        "xtrain=(xtrain-mean)/std \n",
        "xvalid=(xvalid-mean)/std \n",
        "xtest=(xtest-mean)/std"
      ]
    },
    {
      "cell_type": "code",
      "execution_count": null,
      "metadata": {
        "id": "GEmA1hqJBDAI"
      },
      "outputs": [],
      "source": [
        "train_dataset=TensorDataset(xtrain,ytrain)\n",
        "valid_dataset=TensorDataset(xvalid,yvalid)"
      ]
    },
    {
      "cell_type": "code",
      "execution_count": null,
      "metadata": {
        "id": "sH_nKYA5BZRY"
      },
      "outputs": [],
      "source": [
        "train_loader=DataLoader(train_dataset,batch_size=128,shuffle=True)\n",
        "valid_loader=DataLoader(valid_dataset,batch_size=256,shuffle=False)"
      ]
    },
    {
      "cell_type": "code",
      "execution_count": null,
      "metadata": {
        "id": "et2cxyVTCBQD"
      },
      "outputs": [],
      "source": [
        "device='cuda' if tc.cuda.is_available() else 'cpu'"
      ]
    },
    {
      "cell_type": "code",
      "execution_count": null,
      "metadata": {
        "id": "r_jHTlCBBneQ"
      },
      "outputs": [],
      "source": [
        "model=nn.Sequential(nn.Linear(xtrain.shape[1],64),\n",
        "                    nn.ReLU(),nn.Linear(64,32),\n",
        "                    nn.ReLU(),nn.Linear(32,16),\n",
        "                    nn.ReLU(),nn.Linear(16,7))"
      ]
    },
    {
      "cell_type": "code",
      "execution_count": null,
      "metadata": {
        "id": "JeDPzoJ1B8Ij"
      },
      "outputs": [],
      "source": [
        "model=model.to(device)"
      ]
    },
    {
      "cell_type": "code",
      "execution_count": null,
      "metadata": {
        "id": "bj1HVvKLB-VU"
      },
      "outputs": [],
      "source": [
        "loss_func=nn.CrossEntropyLoss()\n",
        "optimizer=optim.SGD(model.parameters(),lr=0.1)"
      ]
    },
    {
      "cell_type": "code",
      "source": [
        "class AverageMeter(object):\n",
        "    \"\"\"Computes and stores the average and current value\"\"\"\n",
        "    def __init__(self):\n",
        "        self.reset()\n",
        "\n",
        "    def reset(self):\n",
        "        self.val = 0\n",
        "        self.avg = 0\n",
        "        self.sum = 0\n",
        "        self.count = 0\n",
        "\n",
        "    def update(self, val, n=1):\n",
        "        self.val = val\n",
        "        self.sum += val * n\n",
        "        self.count += n\n",
        "        self.avg = self.sum / self.count"
      ],
      "metadata": {
        "id": "KVXsZRi4hqEV"
      },
      "execution_count": null,
      "outputs": []
    },
    {
      "cell_type": "code",
      "execution_count": null,
      "metadata": {
        "id": "9oFnC-b8Cf8x"
      },
      "outputs": [],
      "source": [
        "def train_one_epoch(model,train_loader,loss_func,optimizer,epoch):\n",
        "  model.train()\n",
        "  train_loss=AverageMeter()\n",
        "  train_acc=Accuracy(task='multiclass',num_classes=7).to(device)\n",
        "  with tqdm(train_loader,unit='batch') as tepoch:\n",
        "    for x,y in tepoch:\n",
        "        if epoch is not None:\n",
        "          tepoch.set_description(f'Epoch{epoch}')\n",
        "        x=x.to(device)\n",
        "        y=y.to(device)\n",
        "        yp=model(x)\n",
        "        loss=loss_func(yp.squeeze(),y)\n",
        "        train_loss.update(loss.item())\n",
        "        loss.backward()\n",
        "        optimizer.step()\n",
        "        optimizer.zero_grad()\n",
        "        train_acc(yp,y.int())\n",
        "        tepoch.set_postfix(loss=train_loss.avg,\n",
        "                      accuracy=100*train_acc.compute().item())\n",
        "\n",
        "\n",
        "  return model,train_loss.avg,train_acc.compute().item()\n",
        "\n",
        "def validation(model,valid_loader,loss_func):\n",
        "\n",
        "  valid_loss=AverageMeter()\n",
        "  valid_acc=Accuracy(task='multiclass',num_classes=7).to(device)\n",
        "\n",
        "  for j,(x,y) in enumerate(valid_loader):\n",
        "    x=x.to(device)\n",
        "    y=y.to(device)\n",
        "    yp=model(x)\n",
        "    loss=loss_func(yp.squeeze(),y)\n",
        "    valid_loss.update(loss.item())\n",
        "    valid_acc(yp.squeeze(),y)\n",
        "\n",
        "  print(f'valid loss={valid_loss.avg:.4},accuracy={valid_acc.compute():.4}')\n",
        "  print()\n",
        "\n",
        "  return valid_loss.avg,valid_acc.compute().item()"
      ]
    },
    {
      "cell_type": "code",
      "execution_count": null,
      "metadata": {
        "colab": {
          "base_uri": "https://localhost:8080/"
        },
        "id": "6VFhmrxLEQ0_",
        "outputId": "9d5cbf24-c6f9-4682-82ea-b9c129217328"
      },
      "outputs": [
        {
          "output_type": "execute_result",
          "data": {
            "text/plain": [
              "tensor(1.9709, grad_fn=<NllLossBackward0>)"
            ]
          },
          "metadata": {},
          "execution_count": 444
        }
      ],
      "source": [
        "xbatch,ybatch=next(iter(train_loader))\n",
        "yp=model(xbatch)\n",
        "loss_func(yp,ybatch)\n",
        "  "
      ]
    },
    {
      "cell_type": "code",
      "execution_count": null,
      "metadata": {
        "id": "RN1Uzh5sxAgL"
      },
      "outputs": [],
      "source": [
        "mini_batch,_=random_split(train_dataset,(100,len(train_dataset)-100))\n",
        "mini_loader=DataLoader(mini_batch,batch_size=20,shuffle=True)"
      ]
    },
    {
      "cell_type": "code",
      "execution_count": null,
      "metadata": {
        "colab": {
          "base_uri": "https://localhost:8080/"
        },
        "id": "kOcdvcPhxtMd",
        "outputId": "b625339c-1d07-46b5-ed83-564d76e66456"
      },
      "outputs": [
        {
          "output_type": "stream",
          "name": "stderr",
          "text": [
            "Epoch0: 100%|██████████| 5/5 [00:00<00:00, 118.84batch/s, accuracy=31, loss=1.83]\n",
            "Epoch1: 100%|██████████| 5/5 [00:00<00:00, 100.82batch/s, accuracy=83, loss=1.51]\n",
            "Epoch2: 100%|██████████| 5/5 [00:00<00:00, 128.40batch/s, accuracy=83, loss=1.23]\n",
            "Epoch3: 100%|██████████| 5/5 [00:00<00:00, 122.71batch/s, accuracy=83, loss=0.96]\n",
            "Epoch4: 100%|██████████| 5/5 [00:00<00:00, 144.89batch/s, accuracy=83, loss=0.738]\n",
            "Epoch5: 100%|██████████| 5/5 [00:00<00:00, 112.62batch/s, accuracy=83, loss=0.587]\n",
            "Epoch6: 100%|██████████| 5/5 [00:00<00:00, 114.66batch/s, accuracy=88, loss=0.479]\n",
            "Epoch7: 100%|██████████| 5/5 [00:00<00:00, 138.78batch/s, accuracy=89, loss=0.404]\n",
            "Epoch8: 100%|██████████| 5/5 [00:00<00:00, 130.75batch/s, accuracy=89, loss=0.345]\n",
            "Epoch9: 100%|██████████| 5/5 [00:00<00:00, 134.49batch/s, accuracy=89, loss=0.301]\n"
          ]
        }
      ],
      "source": [
        "for i in range(10):\n",
        "  model,_,_=train_one_epoch(model,mini_loader,loss_func,optimizer,i)\n"
      ]
    },
    {
      "cell_type": "code",
      "execution_count": null,
      "metadata": {
        "id": "vjHKyFXkyQJk",
        "colab": {
          "base_uri": "https://localhost:8080/"
        },
        "outputId": "a9664d4c-1dfb-4c1f-ea8d-a0f3b9c2a14d"
      },
      "outputs": [
        {
          "output_type": "stream",
          "name": "stdout",
          "text": [
            "LR=0.1\n"
          ]
        },
        {
          "output_type": "stream",
          "name": "stderr",
          "text": [
            "Epoch1: 100%|██████████| 238/238 [00:02<00:00, 102.68batch/s, accuracy=90.1, loss=0.35]\n"
          ]
        },
        {
          "output_type": "stream",
          "name": "stdout",
          "text": [
            "LR=0.01\n"
          ]
        },
        {
          "output_type": "stream",
          "name": "stderr",
          "text": [
            "Epoch1: 100%|██████████| 238/238 [00:02<00:00, 105.57batch/s, accuracy=78.3, loss=1.13]\n"
          ]
        },
        {
          "output_type": "stream",
          "name": "stdout",
          "text": [
            "LR=0.001\n"
          ]
        },
        {
          "output_type": "stream",
          "name": "stderr",
          "text": [
            "Epoch1: 100%|██████████| 238/238 [00:02<00:00, 105.24batch/s, accuracy=0.378, loss=1.86]\n"
          ]
        },
        {
          "output_type": "stream",
          "name": "stdout",
          "text": [
            "LR=0.0001\n"
          ]
        },
        {
          "output_type": "stream",
          "name": "stderr",
          "text": [
            "Epoch1: 100%|██████████| 238/238 [00:02<00:00, 109.26batch/s, accuracy=0.0197, loss=1.96]\n"
          ]
        }
      ],
      "source": [
        "for lr in [0.1,0.01,0.001,0.0001]:\n",
        "  model=nn.Sequential(nn.Linear(xtrain.shape[1],64),\n",
        "                    nn.ReLU(),nn.Linear(64,32),\n",
        "                    nn.ReLU(),nn.Linear(32,16),\n",
        "                    nn.ReLU(),nn.Linear(16,7)).to(device)\n",
        "  optimizer=optim.SGD(model.parameters(),lr=lr)\n",
        "  print(f'LR={lr}')\n",
        "  model,train_loss,train_acc=train_one_epoch(model,train_loader,loss_func,optimizer,1)"
      ]
    },
    {
      "cell_type": "code",
      "source": [
        "lr_n=[0.1,0.15,0.2,0.25]\n",
        "wd_n=[0,1e-4,1e-5,1e-6,1e-7]\n",
        "result=[]\n",
        "for lr in lr_n:\n",
        "  lr_result=[]\n",
        "  for wd in wd_n:\n",
        "    model=nn.Sequential(nn.Linear(xtrain.shape[1],64),\n",
        "                    nn.ReLU(),nn.Linear(64,32),\n",
        "                    nn.ReLU(),nn.Linear(32,16),\n",
        "                    nn.ReLU(),nn.Linear(16,7)).to(device)\n",
        "    optimizer=optim.SGD(model.parameters(),lr=lr)\n",
        "    N=5\n",
        "    print(f'LR={lr},weight_decay={wd}')\n",
        "\n",
        "    for i in range(N):\n",
        "\n",
        "      model,train_loss,_=train_one_epoch(model,train_loader,loss_func,optimizer,i)\n",
        "\n",
        "      if i==0:\n",
        "        e1=train_loss\n",
        "      if i==N-1:\n",
        "        e2=train_loss\n",
        "\n",
        "    lr_result.append(f'{e1:.4}-{e2:.4}={e1-e2:.4}')\n",
        "    print()\n",
        "  result.append(lr_result)"
      ],
      "metadata": {
        "id": "dygBkgMIgq35",
        "colab": {
          "base_uri": "https://localhost:8080/"
        },
        "outputId": "7c0df7d5-8e07-4fce-9728-46029a74e5e3"
      },
      "execution_count": null,
      "outputs": [
        {
          "output_type": "stream",
          "name": "stdout",
          "text": [
            "LR=0.1,weight_decay=0\n"
          ]
        },
        {
          "output_type": "stream",
          "name": "stderr",
          "text": [
            "Epoch0: 100%|██████████| 238/238 [00:02<00:00, 106.06batch/s, accuracy=88.6, loss=0.402]\n",
            "Epoch1: 100%|██████████| 238/238 [00:02<00:00, 105.79batch/s, accuracy=98.2, loss=0.101]\n",
            "Epoch2: 100%|██████████| 238/238 [00:02<00:00, 105.28batch/s, accuracy=99.1, loss=0.0689]\n",
            "Epoch3: 100%|██████████| 238/238 [00:02<00:00, 107.48batch/s, accuracy=99.4, loss=0.0569]\n",
            "Epoch4: 100%|██████████| 238/238 [00:02<00:00, 94.13batch/s, accuracy=99.4, loss=0.0462]\n"
          ]
        },
        {
          "output_type": "stream",
          "name": "stdout",
          "text": [
            "\n",
            "LR=0.1,weight_decay=0.0001\n"
          ]
        },
        {
          "output_type": "stream",
          "name": "stderr",
          "text": [
            "Epoch0: 100%|██████████| 238/238 [00:02<00:00, 98.74batch/s, accuracy=89.5, loss=0.384]\n",
            "Epoch1: 100%|██████████| 238/238 [00:02<00:00, 92.55batch/s, accuracy=98.4, loss=0.1]\n",
            "Epoch2: 100%|██████████| 238/238 [00:02<00:00, 103.85batch/s, accuracy=99.1, loss=0.0643]\n",
            "Epoch3: 100%|██████████| 238/238 [00:02<00:00, 106.59batch/s, accuracy=99.3, loss=0.0531]\n",
            "Epoch4: 100%|██████████| 238/238 [00:02<00:00, 101.55batch/s, accuracy=99.4, loss=0.0431]\n"
          ]
        },
        {
          "output_type": "stream",
          "name": "stdout",
          "text": [
            "\n",
            "LR=0.1,weight_decay=1e-05\n"
          ]
        },
        {
          "output_type": "stream",
          "name": "stderr",
          "text": [
            "Epoch0: 100%|██████████| 238/238 [00:02<00:00, 108.12batch/s, accuracy=91.1, loss=0.334]\n",
            "Epoch1: 100%|██████████| 238/238 [00:02<00:00, 108.73batch/s, accuracy=98.5, loss=0.0943]\n",
            "Epoch2: 100%|██████████| 238/238 [00:02<00:00, 107.67batch/s, accuracy=99.1, loss=0.0673]\n",
            "Epoch3: 100%|██████████| 238/238 [00:02<00:00, 99.95batch/s, accuracy=99.3, loss=0.0505] \n",
            "Epoch4: 100%|██████████| 238/238 [00:02<00:00, 105.19batch/s, accuracy=99.3, loss=0.0435]\n"
          ]
        },
        {
          "output_type": "stream",
          "name": "stdout",
          "text": [
            "\n",
            "LR=0.1,weight_decay=1e-06\n"
          ]
        },
        {
          "output_type": "stream",
          "name": "stderr",
          "text": [
            "Epoch0: 100%|██████████| 238/238 [00:02<00:00, 107.91batch/s, accuracy=89.6, loss=0.362]\n",
            "Epoch1: 100%|██████████| 238/238 [00:02<00:00, 104.84batch/s, accuracy=98.6, loss=0.0933]\n",
            "Epoch2: 100%|██████████| 238/238 [00:02<00:00, 107.85batch/s, accuracy=99.2, loss=0.0631]\n",
            "Epoch3: 100%|██████████| 238/238 [00:02<00:00, 102.93batch/s, accuracy=99.3, loss=0.052]\n",
            "Epoch4: 100%|██████████| 238/238 [00:02<00:00, 106.16batch/s, accuracy=99.4, loss=0.0449]\n"
          ]
        },
        {
          "output_type": "stream",
          "name": "stdout",
          "text": [
            "\n",
            "LR=0.1,weight_decay=1e-07\n"
          ]
        },
        {
          "output_type": "stream",
          "name": "stderr",
          "text": [
            "Epoch0: 100%|██████████| 238/238 [00:02<00:00, 105.87batch/s, accuracy=88.6, loss=0.481]\n",
            "Epoch1: 100%|██████████| 238/238 [00:02<00:00, 111.89batch/s, accuracy=98.9, loss=0.0901]\n",
            "Epoch2: 100%|██████████| 238/238 [00:02<00:00, 105.95batch/s, accuracy=99.3, loss=0.0598]\n",
            "Epoch3: 100%|██████████| 238/238 [00:02<00:00, 104.47batch/s, accuracy=99.4, loss=0.053]\n",
            "Epoch4: 100%|██████████| 238/238 [00:02<00:00, 107.97batch/s, accuracy=99.4, loss=0.0408]\n"
          ]
        },
        {
          "output_type": "stream",
          "name": "stdout",
          "text": [
            "\n",
            "LR=0.15,weight_decay=0\n"
          ]
        },
        {
          "output_type": "stream",
          "name": "stderr",
          "text": [
            "Epoch0: 100%|██████████| 238/238 [00:02<00:00, 109.55batch/s, accuracy=92.4, loss=0.282]\n",
            "Epoch1: 100%|██████████| 238/238 [00:02<00:00, 106.36batch/s, accuracy=99, loss=0.0685]\n",
            "Epoch2: 100%|██████████| 238/238 [00:02<00:00, 105.95batch/s, accuracy=99.3, loss=0.0497]\n",
            "Epoch3: 100%|██████████| 238/238 [00:02<00:00, 107.01batch/s, accuracy=99.4, loss=0.0422]\n",
            "Epoch4: 100%|██████████| 238/238 [00:02<00:00, 106.06batch/s, accuracy=99.4, loss=0.0337]\n"
          ]
        },
        {
          "output_type": "stream",
          "name": "stdout",
          "text": [
            "\n",
            "LR=0.15,weight_decay=0.0001\n"
          ]
        },
        {
          "output_type": "stream",
          "name": "stderr",
          "text": [
            "Epoch0: 100%|██████████| 238/238 [00:02<00:00, 107.44batch/s, accuracy=94.1, loss=0.25]\n",
            "Epoch1: 100%|██████████| 238/238 [00:02<00:00, 107.29batch/s, accuracy=99, loss=0.0727]\n",
            "Epoch2: 100%|██████████| 238/238 [00:02<00:00, 105.52batch/s, accuracy=99.3, loss=0.0469]\n",
            "Epoch3: 100%|██████████| 238/238 [00:02<00:00, 106.14batch/s, accuracy=99.4, loss=0.037]\n",
            "Epoch4: 100%|██████████| 238/238 [00:02<00:00, 108.14batch/s, accuracy=99.5, loss=0.0318]\n"
          ]
        },
        {
          "output_type": "stream",
          "name": "stdout",
          "text": [
            "\n",
            "LR=0.15,weight_decay=1e-05\n"
          ]
        },
        {
          "output_type": "stream",
          "name": "stderr",
          "text": [
            "Epoch0: 100%|██████████| 238/238 [00:02<00:00, 106.98batch/s, accuracy=92.4, loss=0.283]\n",
            "Epoch1: 100%|██████████| 238/238 [00:02<00:00, 105.67batch/s, accuracy=98.9, loss=0.0734]\n",
            "Epoch2: 100%|██████████| 238/238 [00:02<00:00, 104.88batch/s, accuracy=99.3, loss=0.0494]\n",
            "Epoch3: 100%|██████████| 238/238 [00:02<00:00, 107.18batch/s, accuracy=99.4, loss=0.0399]\n",
            "Epoch4: 100%|██████████| 238/238 [00:02<00:00, 106.28batch/s, accuracy=99.4, loss=0.0345]\n"
          ]
        },
        {
          "output_type": "stream",
          "name": "stdout",
          "text": [
            "\n",
            "LR=0.15,weight_decay=1e-06\n"
          ]
        },
        {
          "output_type": "stream",
          "name": "stderr",
          "text": [
            "Epoch0: 100%|██████████| 238/238 [00:02<00:00, 104.60batch/s, accuracy=93.2, loss=0.28]\n",
            "Epoch1: 100%|██████████| 238/238 [00:02<00:00, 107.25batch/s, accuracy=99.2, loss=0.0682]\n",
            "Epoch2: 100%|██████████| 238/238 [00:02<00:00, 108.82batch/s, accuracy=99.4, loss=0.0452]\n",
            "Epoch3: 100%|██████████| 238/238 [00:02<00:00, 106.09batch/s, accuracy=99.4, loss=0.0356]\n",
            "Epoch4: 100%|██████████| 238/238 [00:02<00:00, 108.86batch/s, accuracy=99.5, loss=0.0311]\n"
          ]
        },
        {
          "output_type": "stream",
          "name": "stdout",
          "text": [
            "\n",
            "LR=0.15,weight_decay=1e-07\n"
          ]
        },
        {
          "output_type": "stream",
          "name": "stderr",
          "text": [
            "Epoch0: 100%|██████████| 238/238 [00:02<00:00, 108.11batch/s, accuracy=92.4, loss=0.305]\n",
            "Epoch1: 100%|██████████| 238/238 [00:02<00:00, 107.07batch/s, accuracy=98.8, loss=0.0846]\n",
            "Epoch2: 100%|██████████| 238/238 [00:02<00:00, 110.00batch/s, accuracy=99.3, loss=0.0544]\n",
            "Epoch3: 100%|██████████| 238/238 [00:02<00:00, 107.43batch/s, accuracy=99.4, loss=0.0425]\n",
            "Epoch4: 100%|██████████| 238/238 [00:02<00:00, 109.59batch/s, accuracy=99.5, loss=0.0357]\n"
          ]
        },
        {
          "output_type": "stream",
          "name": "stdout",
          "text": [
            "\n",
            "LR=0.2,weight_decay=0\n"
          ]
        },
        {
          "output_type": "stream",
          "name": "stderr",
          "text": [
            "Epoch0: 100%|██████████| 238/238 [00:02<00:00, 110.94batch/s, accuracy=94.9, loss=0.217]\n",
            "Epoch1: 100%|██████████| 238/238 [00:02<00:00, 111.18batch/s, accuracy=99.1, loss=0.0596]\n",
            "Epoch2: 100%|██████████| 238/238 [00:02<00:00, 108.80batch/s, accuracy=99.4, loss=0.0397]\n",
            "Epoch3: 100%|██████████| 238/238 [00:02<00:00, 109.08batch/s, accuracy=99.4, loss=0.0348]\n",
            "Epoch4: 100%|██████████| 238/238 [00:02<00:00, 106.40batch/s, accuracy=99.4, loss=0.0309]\n"
          ]
        },
        {
          "output_type": "stream",
          "name": "stdout",
          "text": [
            "\n",
            "LR=0.2,weight_decay=0.0001\n"
          ]
        },
        {
          "output_type": "stream",
          "name": "stderr",
          "text": [
            "Epoch0: 100%|██████████| 238/238 [00:02<00:00, 101.82batch/s, accuracy=94.8, loss=0.225]\n",
            "Epoch1: 100%|██████████| 238/238 [00:02<00:00, 98.72batch/s, accuracy=99, loss=0.0695] \n",
            "Epoch2: 100%|██████████| 238/238 [00:02<00:00, 100.34batch/s, accuracy=99.3, loss=0.0467]\n",
            "Epoch3: 100%|██████████| 238/238 [00:02<00:00, 93.60batch/s, accuracy=99.4, loss=0.037] \n",
            "Epoch4: 100%|██████████| 238/238 [00:02<00:00, 97.67batch/s, accuracy=99.4, loss=0.0303]\n"
          ]
        },
        {
          "output_type": "stream",
          "name": "stdout",
          "text": [
            "\n",
            "LR=0.2,weight_decay=1e-05\n"
          ]
        },
        {
          "output_type": "stream",
          "name": "stderr",
          "text": [
            "Epoch0: 100%|██████████| 238/238 [00:02<00:00, 102.69batch/s, accuracy=94.1, loss=0.256]\n",
            "Epoch1: 100%|██████████| 238/238 [00:02<00:00, 104.26batch/s, accuracy=99.1, loss=0.0653]\n",
            "Epoch2: 100%|██████████| 238/238 [00:02<00:00, 105.90batch/s, accuracy=99.4, loss=0.0467]\n",
            "Epoch3: 100%|██████████| 238/238 [00:02<00:00, 102.95batch/s, accuracy=99.5, loss=0.0381]\n",
            "Epoch4: 100%|██████████| 238/238 [00:02<00:00, 103.06batch/s, accuracy=99.5, loss=0.0326]\n"
          ]
        },
        {
          "output_type": "stream",
          "name": "stdout",
          "text": [
            "\n",
            "LR=0.2,weight_decay=1e-06\n"
          ]
        },
        {
          "output_type": "stream",
          "name": "stderr",
          "text": [
            "Epoch0: 100%|██████████| 238/238 [00:02<00:00, 103.60batch/s, accuracy=93.7, loss=0.234]\n",
            "Epoch1: 100%|██████████| 238/238 [00:02<00:00, 103.86batch/s, accuracy=99, loss=0.0616]\n",
            "Epoch2: 100%|██████████| 238/238 [00:02<00:00, 104.93batch/s, accuracy=99.2, loss=0.0534]\n",
            "Epoch3: 100%|██████████| 238/238 [00:02<00:00, 106.90batch/s, accuracy=99.4, loss=0.0336]\n",
            "Epoch4: 100%|██████████| 238/238 [00:02<00:00, 103.20batch/s, accuracy=99.4, loss=0.0284]\n"
          ]
        },
        {
          "output_type": "stream",
          "name": "stdout",
          "text": [
            "\n",
            "LR=0.2,weight_decay=1e-07\n"
          ]
        },
        {
          "output_type": "stream",
          "name": "stderr",
          "text": [
            "Epoch0: 100%|██████████| 238/238 [00:02<00:00, 102.89batch/s, accuracy=93.3, loss=0.248]\n",
            "Epoch1: 100%|██████████| 238/238 [00:02<00:00, 103.86batch/s, accuracy=99.1, loss=0.0611]\n",
            "Epoch2: 100%|██████████| 238/238 [00:02<00:00, 99.34batch/s, accuracy=99.3, loss=0.0416]\n",
            "Epoch3: 100%|██████████| 238/238 [00:02<00:00, 105.17batch/s, accuracy=99.4, loss=0.0356]\n",
            "Epoch4: 100%|██████████| 238/238 [00:02<00:00, 103.22batch/s, accuracy=99.5, loss=0.0299]\n"
          ]
        },
        {
          "output_type": "stream",
          "name": "stdout",
          "text": [
            "\n",
            "LR=0.25,weight_decay=0\n"
          ]
        },
        {
          "output_type": "stream",
          "name": "stderr",
          "text": [
            "Epoch0: 100%|██████████| 238/238 [00:02<00:00, 104.51batch/s, accuracy=94.4, loss=0.213]\n",
            "Epoch1: 100%|██████████| 238/238 [00:02<00:00, 104.18batch/s, accuracy=99.1, loss=0.0565]\n",
            "Epoch2: 100%|██████████| 238/238 [00:02<00:00, 106.60batch/s, accuracy=99.3, loss=0.0399]\n",
            "Epoch3: 100%|██████████| 238/238 [00:02<00:00, 98.26batch/s, accuracy=99.3, loss=0.0313]\n",
            "Epoch4: 100%|██████████| 238/238 [00:02<00:00, 97.55batch/s, accuracy=99.4, loss=0.0284]\n"
          ]
        },
        {
          "output_type": "stream",
          "name": "stdout",
          "text": [
            "\n",
            "LR=0.25,weight_decay=0.0001\n"
          ]
        },
        {
          "output_type": "stream",
          "name": "stderr",
          "text": [
            "Epoch0: 100%|██████████| 238/238 [00:02<00:00, 98.66batch/s, accuracy=94.8, loss=0.207] \n",
            "Epoch1: 100%|██████████| 238/238 [00:02<00:00, 103.76batch/s, accuracy=99.1, loss=0.0593]\n",
            "Epoch2: 100%|██████████| 238/238 [00:02<00:00, 99.04batch/s, accuracy=99.4, loss=0.0364] \n",
            "Epoch3: 100%|██████████| 238/238 [00:02<00:00, 104.16batch/s, accuracy=99.4, loss=0.0299]\n",
            "Epoch4: 100%|██████████| 238/238 [00:02<00:00, 98.20batch/s, accuracy=99.4, loss=0.0269]\n"
          ]
        },
        {
          "output_type": "stream",
          "name": "stdout",
          "text": [
            "\n",
            "LR=0.25,weight_decay=1e-05\n"
          ]
        },
        {
          "output_type": "stream",
          "name": "stderr",
          "text": [
            "Epoch0: 100%|██████████| 238/238 [00:02<00:00, 95.55batch/s, accuracy=95, loss=0.201]\n",
            "Epoch1: 100%|██████████| 238/238 [00:02<00:00, 101.10batch/s, accuracy=99.1, loss=0.0533]\n",
            "Epoch2: 100%|██████████| 238/238 [00:02<00:00, 95.98batch/s, accuracy=99.2, loss=0.0384]\n",
            "Epoch3: 100%|██████████| 238/238 [00:02<00:00, 100.83batch/s, accuracy=99.4, loss=0.0313]\n",
            "Epoch4: 100%|██████████| 238/238 [00:02<00:00, 104.27batch/s, accuracy=99.5, loss=0.0261]\n"
          ]
        },
        {
          "output_type": "stream",
          "name": "stdout",
          "text": [
            "\n",
            "LR=0.25,weight_decay=1e-06\n"
          ]
        },
        {
          "output_type": "stream",
          "name": "stderr",
          "text": [
            "Epoch0: 100%|██████████| 238/238 [00:02<00:00, 107.38batch/s, accuracy=94.3, loss=0.204]\n",
            "Epoch1: 100%|██████████| 238/238 [00:02<00:00, 108.72batch/s, accuracy=99.2, loss=0.0563]\n",
            "Epoch2: 100%|██████████| 238/238 [00:02<00:00, 106.20batch/s, accuracy=99.3, loss=0.0378]\n",
            "Epoch3: 100%|██████████| 238/238 [00:02<00:00, 105.56batch/s, accuracy=99.3, loss=0.0332]\n",
            "Epoch4: 100%|██████████| 238/238 [00:02<00:00, 105.97batch/s, accuracy=99.4, loss=0.0271]\n"
          ]
        },
        {
          "output_type": "stream",
          "name": "stdout",
          "text": [
            "\n",
            "LR=0.25,weight_decay=1e-07\n"
          ]
        },
        {
          "output_type": "stream",
          "name": "stderr",
          "text": [
            "Epoch0: 100%|██████████| 238/238 [00:02<00:00, 105.40batch/s, accuracy=93.9, loss=0.232]\n",
            "Epoch1: 100%|██████████| 238/238 [00:02<00:00, 107.51batch/s, accuracy=99.3, loss=0.0551]\n",
            "Epoch2: 100%|██████████| 238/238 [00:02<00:00, 107.61batch/s, accuracy=99.4, loss=0.0377]\n",
            "Epoch3: 100%|██████████| 238/238 [00:02<00:00, 105.92batch/s, accuracy=99.5, loss=0.0289]\n",
            "Epoch4: 100%|██████████| 238/238 [00:02<00:00, 101.81batch/s, accuracy=99.5, loss=0.025]"
          ]
        },
        {
          "output_type": "stream",
          "name": "stdout",
          "text": [
            "\n"
          ]
        },
        {
          "output_type": "stream",
          "name": "stderr",
          "text": [
            "\n"
          ]
        }
      ]
    },
    {
      "cell_type": "code",
      "source": [
        "pd.DataFrame(result,index=lr_n,columns=wd_n)"
      ],
      "metadata": {
        "id": "9PlzqwVHkZPg",
        "colab": {
          "base_uri": "https://localhost:8080/",
          "height": 175
        },
        "outputId": "5eff7102-2628-4658-a71b-c47ed38d3cb2"
      },
      "execution_count": null,
      "outputs": [
        {
          "output_type": "execute_result",
          "data": {
            "text/plain": [
              "               0.000000e+00           1.000000e-04           1.000000e-05  \\\n",
              "0.10  0.4025-0.04622=0.3563   0.3837-0.0431=0.3406  0.3338-0.04354=0.2903   \n",
              "0.15  0.2822-0.03371=0.2485  0.2501-0.03179=0.2183  0.2833-0.03452=0.2488   \n",
              "0.20  0.2168-0.03087=0.1859  0.2252-0.03032=0.1948   0.2556-0.03264=0.223   \n",
              "0.25   0.2134-0.02838=0.185  0.2074-0.02695=0.1805  0.2007-0.02607=0.1746   \n",
              "\n",
              "               1.000000e-06           1.000000e-07  \n",
              "0.10  0.3625-0.04495=0.3175   0.4809-0.0408=0.4401  \n",
              "0.15  0.2803-0.03108=0.2492  0.3053-0.03568=0.2696  \n",
              "0.20   0.234-0.02835=0.2056  0.2476-0.02986=0.2177  \n",
              "0.25   0.204-0.02711=0.1769  0.2316-0.02501=0.2066  "
            ],
            "text/html": [
              "\n",
              "  <div id=\"df-312d0f05-e11e-47ad-8170-cfe4b17589d6\">\n",
              "    <div class=\"colab-df-container\">\n",
              "      <div>\n",
              "<style scoped>\n",
              "    .dataframe tbody tr th:only-of-type {\n",
              "        vertical-align: middle;\n",
              "    }\n",
              "\n",
              "    .dataframe tbody tr th {\n",
              "        vertical-align: top;\n",
              "    }\n",
              "\n",
              "    .dataframe thead th {\n",
              "        text-align: right;\n",
              "    }\n",
              "</style>\n",
              "<table border=\"1\" class=\"dataframe\">\n",
              "  <thead>\n",
              "    <tr style=\"text-align: right;\">\n",
              "      <th></th>\n",
              "      <th>0.000000e+00</th>\n",
              "      <th>1.000000e-04</th>\n",
              "      <th>1.000000e-05</th>\n",
              "      <th>1.000000e-06</th>\n",
              "      <th>1.000000e-07</th>\n",
              "    </tr>\n",
              "  </thead>\n",
              "  <tbody>\n",
              "    <tr>\n",
              "      <th>0.10</th>\n",
              "      <td>0.4025-0.04622=0.3563</td>\n",
              "      <td>0.3837-0.0431=0.3406</td>\n",
              "      <td>0.3338-0.04354=0.2903</td>\n",
              "      <td>0.3625-0.04495=0.3175</td>\n",
              "      <td>0.4809-0.0408=0.4401</td>\n",
              "    </tr>\n",
              "    <tr>\n",
              "      <th>0.15</th>\n",
              "      <td>0.2822-0.03371=0.2485</td>\n",
              "      <td>0.2501-0.03179=0.2183</td>\n",
              "      <td>0.2833-0.03452=0.2488</td>\n",
              "      <td>0.2803-0.03108=0.2492</td>\n",
              "      <td>0.3053-0.03568=0.2696</td>\n",
              "    </tr>\n",
              "    <tr>\n",
              "      <th>0.20</th>\n",
              "      <td>0.2168-0.03087=0.1859</td>\n",
              "      <td>0.2252-0.03032=0.1948</td>\n",
              "      <td>0.2556-0.03264=0.223</td>\n",
              "      <td>0.234-0.02835=0.2056</td>\n",
              "      <td>0.2476-0.02986=0.2177</td>\n",
              "    </tr>\n",
              "    <tr>\n",
              "      <th>0.25</th>\n",
              "      <td>0.2134-0.02838=0.185</td>\n",
              "      <td>0.2074-0.02695=0.1805</td>\n",
              "      <td>0.2007-0.02607=0.1746</td>\n",
              "      <td>0.204-0.02711=0.1769</td>\n",
              "      <td>0.2316-0.02501=0.2066</td>\n",
              "    </tr>\n",
              "  </tbody>\n",
              "</table>\n",
              "</div>\n",
              "      <button class=\"colab-df-convert\" onclick=\"convertToInteractive('df-312d0f05-e11e-47ad-8170-cfe4b17589d6')\"\n",
              "              title=\"Convert this dataframe to an interactive table.\"\n",
              "              style=\"display:none;\">\n",
              "        \n",
              "  <svg xmlns=\"http://www.w3.org/2000/svg\" height=\"24px\"viewBox=\"0 0 24 24\"\n",
              "       width=\"24px\">\n",
              "    <path d=\"M0 0h24v24H0V0z\" fill=\"none\"/>\n",
              "    <path d=\"M18.56 5.44l.94 2.06.94-2.06 2.06-.94-2.06-.94-.94-2.06-.94 2.06-2.06.94zm-11 1L8.5 8.5l.94-2.06 2.06-.94-2.06-.94L8.5 2.5l-.94 2.06-2.06.94zm10 10l.94 2.06.94-2.06 2.06-.94-2.06-.94-.94-2.06-.94 2.06-2.06.94z\"/><path d=\"M17.41 7.96l-1.37-1.37c-.4-.4-.92-.59-1.43-.59-.52 0-1.04.2-1.43.59L10.3 9.45l-7.72 7.72c-.78.78-.78 2.05 0 2.83L4 21.41c.39.39.9.59 1.41.59.51 0 1.02-.2 1.41-.59l7.78-7.78 2.81-2.81c.8-.78.8-2.07 0-2.86zM5.41 20L4 18.59l7.72-7.72 1.47 1.35L5.41 20z\"/>\n",
              "  </svg>\n",
              "      </button>\n",
              "      \n",
              "  <style>\n",
              "    .colab-df-container {\n",
              "      display:flex;\n",
              "      flex-wrap:wrap;\n",
              "      gap: 12px;\n",
              "    }\n",
              "\n",
              "    .colab-df-convert {\n",
              "      background-color: #E8F0FE;\n",
              "      border: none;\n",
              "      border-radius: 50%;\n",
              "      cursor: pointer;\n",
              "      display: none;\n",
              "      fill: #1967D2;\n",
              "      height: 32px;\n",
              "      padding: 0 0 0 0;\n",
              "      width: 32px;\n",
              "    }\n",
              "\n",
              "    .colab-df-convert:hover {\n",
              "      background-color: #E2EBFA;\n",
              "      box-shadow: 0px 1px 2px rgba(60, 64, 67, 0.3), 0px 1px 3px 1px rgba(60, 64, 67, 0.15);\n",
              "      fill: #174EA6;\n",
              "    }\n",
              "\n",
              "    [theme=dark] .colab-df-convert {\n",
              "      background-color: #3B4455;\n",
              "      fill: #D2E3FC;\n",
              "    }\n",
              "\n",
              "    [theme=dark] .colab-df-convert:hover {\n",
              "      background-color: #434B5C;\n",
              "      box-shadow: 0px 1px 3px 1px rgba(0, 0, 0, 0.15);\n",
              "      filter: drop-shadow(0px 1px 2px rgba(0, 0, 0, 0.3));\n",
              "      fill: #FFFFFF;\n",
              "    }\n",
              "  </style>\n",
              "\n",
              "      <script>\n",
              "        const buttonEl =\n",
              "          document.querySelector('#df-312d0f05-e11e-47ad-8170-cfe4b17589d6 button.colab-df-convert');\n",
              "        buttonEl.style.display =\n",
              "          google.colab.kernel.accessAllowed ? 'block' : 'none';\n",
              "\n",
              "        async function convertToInteractive(key) {\n",
              "          const element = document.querySelector('#df-312d0f05-e11e-47ad-8170-cfe4b17589d6');\n",
              "          const dataTable =\n",
              "            await google.colab.kernel.invokeFunction('convertToInteractive',\n",
              "                                                     [key], {});\n",
              "          if (!dataTable) return;\n",
              "\n",
              "          const docLinkHtml = 'Like what you see? Visit the ' +\n",
              "            '<a target=\"_blank\" href=https://colab.research.google.com/notebooks/data_table.ipynb>data table notebook</a>'\n",
              "            + ' to learn more about interactive tables.';\n",
              "          element.innerHTML = '';\n",
              "          dataTable['output_type'] = 'display_data';\n",
              "          await google.colab.output.renderOutput(dataTable, element);\n",
              "          const docLink = document.createElement('div');\n",
              "          docLink.innerHTML = docLinkHtml;\n",
              "          element.appendChild(docLink);\n",
              "        }\n",
              "      </script>\n",
              "    </div>\n",
              "  </div>\n",
              "  "
            ]
          },
          "metadata": {},
          "execution_count": 449
        }
      ]
    },
    {
      "cell_type": "code",
      "source": [
        "model=nn.Sequential(nn.Linear(xtrain.shape[1],64),\n",
        "                    nn.ReLU(),nn.Linear(64,32),\n",
        "                    nn.ReLU(),nn.Linear(32,16),\n",
        "                    nn.ReLU(),nn.Linear(16,7),nn.Softmax())\n",
        "optimizer=optim.SGD(model.parameters(),lr=0.1,weight_decay=1e-7)"
      ],
      "metadata": {
        "id": "tsj1hzPns_in"
      },
      "execution_count": null,
      "outputs": []
    },
    {
      "cell_type": "code",
      "source": [
        "model=model.to(device)"
      ],
      "metadata": {
        "id": "alwjt1J9tEbZ"
      },
      "execution_count": null,
      "outputs": []
    },
    {
      "cell_type": "code",
      "source": [
        "N=25\n",
        "acc_train_hist,loss_train_hist=[],[]\n",
        "acc_valid_hist,loss_valid_hist=[],[]\n",
        "\n",
        "for i in range(N):\n",
        "\n",
        "  model,train_loss,train_acc=train_one_epoch(model,train_loader,loss_func,optimizer,i)\n",
        "  valid_loss,valid_acc=validation(model,valid_loader,loss_func)\n",
        "\n",
        "  acc_train_hist.append(train_acc)\n",
        "  loss_train_hist.append(train_loss)\n",
        "\n",
        "  acc_valid_hist.append(valid_acc)\n",
        "  loss_valid_hist.append(valid_loss)"
      ],
      "metadata": {
        "id": "MrvLm-pWtIGk",
        "colab": {
          "base_uri": "https://localhost:8080/"
        },
        "outputId": "8816a421-433f-4f4e-e84c-6ab717d0341e"
      },
      "execution_count": null,
      "outputs": [
        {
          "output_type": "stream",
          "name": "stderr",
          "text": [
            "Epoch0:   0%|          | 0/238 [00:00<?, ?batch/s]/usr/local/lib/python3.8/dist-packages/torch/nn/modules/container.py:204: UserWarning: Implicit dimension choice for softmax has been deprecated. Change the call to include dim=X as an argument.\n",
            "  input = module(input)\n",
            "Epoch0: 100%|██████████| 238/238 [00:02<00:00, 107.96batch/s, accuracy=73, loss=1.56]\n"
          ]
        },
        {
          "output_type": "stream",
          "name": "stdout",
          "text": [
            "valid loss=1.361,accuracy=0.7858\n",
            "\n"
          ]
        },
        {
          "output_type": "stream",
          "name": "stderr",
          "text": [
            "Epoch1: 100%|██████████| 238/238 [00:02<00:00, 102.59batch/s, accuracy=78.3, loss=1.36]\n"
          ]
        },
        {
          "output_type": "stream",
          "name": "stdout",
          "text": [
            "valid loss=1.347,accuracy=0.7865\n",
            "\n"
          ]
        },
        {
          "output_type": "stream",
          "name": "stderr",
          "text": [
            "Epoch2: 100%|██████████| 238/238 [00:02<00:00, 108.90batch/s, accuracy=84.9, loss=1.33]\n"
          ]
        },
        {
          "output_type": "stream",
          "name": "stdout",
          "text": [
            "valid loss=1.301,accuracy=0.8689\n",
            "\n"
          ]
        },
        {
          "output_type": "stream",
          "name": "stderr",
          "text": [
            "Epoch3: 100%|██████████| 238/238 [00:02<00:00, 102.78batch/s, accuracy=89.4, loss=1.28]\n"
          ]
        },
        {
          "output_type": "stream",
          "name": "stdout",
          "text": [
            "valid loss=1.257,accuracy=0.922\n",
            "\n"
          ]
        },
        {
          "output_type": "stream",
          "name": "stderr",
          "text": [
            "Epoch4: 100%|██████████| 238/238 [00:02<00:00, 104.54batch/s, accuracy=92.4, loss=1.25]\n"
          ]
        },
        {
          "output_type": "stream",
          "name": "stdout",
          "text": [
            "valid loss=1.246,accuracy=0.9244\n",
            "\n"
          ]
        },
        {
          "output_type": "stream",
          "name": "stderr",
          "text": [
            "Epoch5: 100%|██████████| 238/238 [00:02<00:00, 109.03batch/s, accuracy=92.6, loss=1.24]\n"
          ]
        },
        {
          "output_type": "stream",
          "name": "stdout",
          "text": [
            "valid loss=1.241,accuracy=0.9281\n",
            "\n"
          ]
        },
        {
          "output_type": "stream",
          "name": "stderr",
          "text": [
            "Epoch6: 100%|██████████| 238/238 [00:02<00:00, 103.08batch/s, accuracy=92.7, loss=1.24]\n"
          ]
        },
        {
          "output_type": "stream",
          "name": "stdout",
          "text": [
            "valid loss=1.239,accuracy=0.9297\n",
            "\n"
          ]
        },
        {
          "output_type": "stream",
          "name": "stderr",
          "text": [
            "Epoch7: 100%|██████████| 238/238 [00:02<00:00, 100.58batch/s, accuracy=92.9, loss=1.24]\n"
          ]
        },
        {
          "output_type": "stream",
          "name": "stdout",
          "text": [
            "valid loss=1.236,accuracy=0.9332\n",
            "\n"
          ]
        },
        {
          "output_type": "stream",
          "name": "stderr",
          "text": [
            "Epoch8: 100%|██████████| 238/238 [00:02<00:00, 104.51batch/s, accuracy=93.2, loss=1.24]\n"
          ]
        },
        {
          "output_type": "stream",
          "name": "stdout",
          "text": [
            "valid loss=1.233,accuracy=0.9376\n",
            "\n"
          ]
        },
        {
          "output_type": "stream",
          "name": "stderr",
          "text": [
            "Epoch9: 100%|██████████| 238/238 [00:02<00:00, 104.59batch/s, accuracy=93.5, loss=1.23]\n"
          ]
        },
        {
          "output_type": "stream",
          "name": "stdout",
          "text": [
            "valid loss=1.23,accuracy=0.9389\n",
            "\n"
          ]
        },
        {
          "output_type": "stream",
          "name": "stderr",
          "text": [
            "Epoch10: 100%|██████████| 238/238 [00:02<00:00, 108.08batch/s, accuracy=93.7, loss=1.23]\n"
          ]
        },
        {
          "output_type": "stream",
          "name": "stdout",
          "text": [
            "valid loss=1.229,accuracy=0.9402\n",
            "\n"
          ]
        },
        {
          "output_type": "stream",
          "name": "stderr",
          "text": [
            "Epoch11: 100%|██████████| 238/238 [00:02<00:00, 108.11batch/s, accuracy=93.8, loss=1.23]\n"
          ]
        },
        {
          "output_type": "stream",
          "name": "stdout",
          "text": [
            "valid loss=1.228,accuracy=0.9395\n",
            "\n"
          ]
        },
        {
          "output_type": "stream",
          "name": "stderr",
          "text": [
            "Epoch12: 100%|██████████| 238/238 [00:02<00:00, 105.32batch/s, accuracy=93.8, loss=1.23]\n"
          ]
        },
        {
          "output_type": "stream",
          "name": "stdout",
          "text": [
            "valid loss=1.227,accuracy=0.9406\n",
            "\n"
          ]
        },
        {
          "output_type": "stream",
          "name": "stderr",
          "text": [
            "Epoch13: 100%|██████████| 238/238 [00:02<00:00, 106.92batch/s, accuracy=93.8, loss=1.23]\n"
          ]
        },
        {
          "output_type": "stream",
          "name": "stdout",
          "text": [
            "valid loss=1.227,accuracy=0.9403\n",
            "\n"
          ]
        },
        {
          "output_type": "stream",
          "name": "stderr",
          "text": [
            "Epoch14: 100%|██████████| 238/238 [00:02<00:00, 107.12batch/s, accuracy=93.8, loss=1.23]\n"
          ]
        },
        {
          "output_type": "stream",
          "name": "stdout",
          "text": [
            "valid loss=1.227,accuracy=0.9407\n",
            "\n"
          ]
        },
        {
          "output_type": "stream",
          "name": "stderr",
          "text": [
            "Epoch15: 100%|██████████| 238/238 [00:02<00:00, 103.34batch/s, accuracy=93.8, loss=1.23]\n"
          ]
        },
        {
          "output_type": "stream",
          "name": "stdout",
          "text": [
            "valid loss=1.226,accuracy=0.9407\n",
            "\n"
          ]
        },
        {
          "output_type": "stream",
          "name": "stderr",
          "text": [
            "Epoch16: 100%|██████████| 238/238 [00:02<00:00, 106.03batch/s, accuracy=93.8, loss=1.23]\n"
          ]
        },
        {
          "output_type": "stream",
          "name": "stdout",
          "text": [
            "valid loss=1.226,accuracy=0.9407\n",
            "\n"
          ]
        },
        {
          "output_type": "stream",
          "name": "stderr",
          "text": [
            "Epoch17: 100%|██████████| 238/238 [00:02<00:00, 104.22batch/s, accuracy=93.8, loss=1.23]\n"
          ]
        },
        {
          "output_type": "stream",
          "name": "stdout",
          "text": [
            "valid loss=1.226,accuracy=0.9407\n",
            "\n"
          ]
        },
        {
          "output_type": "stream",
          "name": "stderr",
          "text": [
            "Epoch18: 100%|██████████| 238/238 [00:02<00:00, 107.25batch/s, accuracy=93.8, loss=1.23]\n"
          ]
        },
        {
          "output_type": "stream",
          "name": "stdout",
          "text": [
            "valid loss=1.226,accuracy=0.9407\n",
            "\n"
          ]
        },
        {
          "output_type": "stream",
          "name": "stderr",
          "text": [
            "Epoch19: 100%|██████████| 238/238 [00:02<00:00, 104.95batch/s, accuracy=93.8, loss=1.23]\n"
          ]
        },
        {
          "output_type": "stream",
          "name": "stdout",
          "text": [
            "valid loss=1.226,accuracy=0.9407\n",
            "\n"
          ]
        },
        {
          "output_type": "stream",
          "name": "stderr",
          "text": [
            "Epoch20: 100%|██████████| 238/238 [00:02<00:00, 105.92batch/s, accuracy=93.8, loss=1.23]\n"
          ]
        },
        {
          "output_type": "stream",
          "name": "stdout",
          "text": [
            "valid loss=1.226,accuracy=0.9407\n",
            "\n"
          ]
        },
        {
          "output_type": "stream",
          "name": "stderr",
          "text": [
            "Epoch21: 100%|██████████| 238/238 [00:02<00:00, 105.95batch/s, accuracy=93.8, loss=1.23]\n"
          ]
        },
        {
          "output_type": "stream",
          "name": "stdout",
          "text": [
            "valid loss=1.226,accuracy=0.9407\n",
            "\n"
          ]
        },
        {
          "output_type": "stream",
          "name": "stderr",
          "text": [
            "Epoch22: 100%|██████████| 238/238 [00:02<00:00, 105.58batch/s, accuracy=93.8, loss=1.23]\n"
          ]
        },
        {
          "output_type": "stream",
          "name": "stdout",
          "text": [
            "valid loss=1.226,accuracy=0.9407\n",
            "\n"
          ]
        },
        {
          "output_type": "stream",
          "name": "stderr",
          "text": [
            "Epoch23: 100%|██████████| 238/238 [00:02<00:00, 108.09batch/s, accuracy=93.8, loss=1.23]\n"
          ]
        },
        {
          "output_type": "stream",
          "name": "stdout",
          "text": [
            "valid loss=1.226,accuracy=0.9407\n",
            "\n"
          ]
        },
        {
          "output_type": "stream",
          "name": "stderr",
          "text": [
            "Epoch24: 100%|██████████| 238/238 [00:02<00:00, 104.57batch/s, accuracy=93.8, loss=1.23]\n"
          ]
        },
        {
          "output_type": "stream",
          "name": "stdout",
          "text": [
            "valid loss=1.225,accuracy=0.9407\n",
            "\n"
          ]
        }
      ]
    },
    {
      "cell_type": "code",
      "source": [
        "plt.plot(range(N),loss_train_hist,label='train loss')\n",
        "plt.plot(range(N),loss_valid_hist,label='valid loss')\n",
        "plt.grid()\n",
        "plt.xlabel('Epoch')\n",
        "plt.ylabel('Loss')\n",
        "plt.legend()\n",
        "plt.show()"
      ],
      "metadata": {
        "id": "3IhW-OkruNIS",
        "colab": {
          "base_uri": "https://localhost:8080/",
          "height": 279
        },
        "outputId": "8f38ae72-0494-4d27-ece6-bb5aed733c32"
      },
      "execution_count": null,
      "outputs": [
        {
          "output_type": "display_data",
          "data": {
            "text/plain": [
              "<Figure size 432x288 with 1 Axes>"
            ],
            "image/png": "[encoded data removed]"
          },
          "metadata": {
            "needs_background": "light"
          }
        }
      ]
    },
    {
      "cell_type": "code",
      "source": [
        "#good fit"
      ],
      "metadata": {
        "id": "snD8IY6XgnSz"
      },
      "execution_count": null,
      "outputs": []
    },
    {
      "cell_type": "code",
      "source": [
        "plt.plot(range(N),acc_train_hist,label='train accuracy')\n",
        "plt.plot(range(N),acc_valid_hist,label='valid accuracy')\n",
        "plt.grid()\n",
        "plt.xlabel('Epoch')\n",
        "plt.ylabel('Accuracy')\n",
        "plt.legend()\n",
        "plt.show()"
      ],
      "metadata": {
        "id": "4Dq5Qo2HvRHa",
        "colab": {
          "base_uri": "https://localhost:8080/",
          "height": 282
        },
        "outputId": "3b7595c1-6b2c-42ae-c3b3-f22b4a063117"
      },
      "execution_count": null,
      "outputs": [
        {
          "output_type": "display_data",
          "data": {
            "text/plain": [
              "<Figure size 432x288 with 1 Axes>"
            ],
            "image/png": "[encoded data removed]"
          },
          "metadata": {
            "needs_background": "light"
          }
        }
      ]
    },
    {
      "cell_type": "code",
      "source": [
        "tc.save(model,'model.pth')"
      ],
      "metadata": {
        "id": "yjJlkSakvdRW"
      },
      "execution_count": null,
      "outputs": []
    },
    {
      "cell_type": "code",
      "source": [
        "ypred=model(xtest.to(device)).cpu()"
      ],
      "metadata": {
        "id": "iDP7bUf7BIS0"
      },
      "execution_count": null,
      "outputs": []
    },
    {
      "cell_type": "code",
      "source": [
        "ypred_save=[]\n",
        "for i in ypred:\n",
        "  b=max(i)\n",
        "  for j in range(len(i)):\n",
        "    if i[j]==b:\n",
        "      ypred_save.append(j)"
      ],
      "metadata": {
        "id": "Ln9HLF7NBN9n"
      },
      "execution_count": null,
      "outputs": []
    },
    {
      "cell_type": "code",
      "source": [
        "df_prediction=pd.DataFrame(ypred_save,columns=['pred'])+1"
      ],
      "metadata": {
        "id": "cmslTJNLDcl3"
      },
      "execution_count": null,
      "outputs": []
    },
    {
      "cell_type": "code",
      "source": [
        "df_prediction.to_csv('prediction.csv')"
      ],
      "metadata": {
        "id": "9A1pFvzxJ7yy"
      },
      "execution_count": null,
      "outputs": []
    },
    {
      "cell_type": "code",
      "source": [
        "model=nn.Sequential(nn.Linear(xtrain.shape[1],1024),\n",
        "                    nn.ReLU(),nn.Linear(1024,512),\n",
        "                    nn.ReLU(),nn.Linear(512,512),\n",
        "                    nn.ReLU(),nn.Linear(512,7),\n",
        "                    )\n",
        "optimizer=optim.SGD(model.parameters(),lr=0.1,weight_decay=1e-7)"
      ],
      "metadata": {
        "id": "4RWjzfJPKFCq"
      },
      "execution_count": null,
      "outputs": []
    },
    {
      "cell_type": "code",
      "source": [
        "model=model.to(device)"
      ],
      "metadata": {
        "id": "y0TLgbnbKxSw"
      },
      "execution_count": null,
      "outputs": []
    },
    {
      "cell_type": "code",
      "source": [
        "N=25\n",
        "acc_train_hist,loss_train_hist=[],[]\n",
        "acc_valid_hist,loss_valid_hist=[],[]\n",
        "\n",
        "for i in range(N):\n",
        "\n",
        "  model,train_loss,train_acc=train_one_epoch(model,mini_loader,loss_func,optimizer,i)\n",
        "  valid_loss,valid_acc=validation(model,valid_loader,loss_func)\n",
        "\n",
        "  acc_train_hist.append(train_acc)\n",
        "  loss_train_hist.append(train_loss)\n",
        "\n",
        "  acc_valid_hist.append(valid_acc)\n",
        "  loss_valid_hist.append(valid_loss)"
      ],
      "metadata": {
        "colab": {
          "base_uri": "https://localhost:8080/"
        },
        "id": "pUmKa3ORLE3O",
        "outputId": "f0016194-6750-41fa-aafb-0b5813defaf0"
      },
      "execution_count": null,
      "outputs": [
        {
          "output_type": "stream",
          "name": "stderr",
          "text": [
            "Epoch0: 100%|██████████| 5/5 [00:00<00:00, 75.51batch/s, accuracy=66, loss=1.53]\n"
          ]
        },
        {
          "output_type": "stream",
          "name": "stdout",
          "text": [
            "valid loss=0.8753,accuracy=0.7858\n",
            "\n"
          ]
        },
        {
          "output_type": "stream",
          "name": "stderr",
          "text": [
            "Epoch1: 100%|██████████| 5/5 [00:00<00:00, 75.75batch/s, accuracy=83, loss=0.576]\n"
          ]
        },
        {
          "output_type": "stream",
          "name": "stdout",
          "text": [
            "valid loss=0.4992,accuracy=0.8262\n",
            "\n"
          ]
        },
        {
          "output_type": "stream",
          "name": "stderr",
          "text": [
            "Epoch2: 100%|██████████| 5/5 [00:00<00:00, 62.66batch/s, accuracy=89, loss=0.371]\n"
          ]
        },
        {
          "output_type": "stream",
          "name": "stdout",
          "text": [
            "valid loss=0.388,accuracy=0.8407\n",
            "\n"
          ]
        },
        {
          "output_type": "stream",
          "name": "stderr",
          "text": [
            "Epoch3: 100%|██████████| 5/5 [00:00<00:00, 68.93batch/s, accuracy=89, loss=0.266]\n"
          ]
        },
        {
          "output_type": "stream",
          "name": "stdout",
          "text": [
            "valid loss=0.3369,accuracy=0.8408\n",
            "\n"
          ]
        },
        {
          "output_type": "stream",
          "name": "stderr",
          "text": [
            "Epoch4: 100%|██████████| 5/5 [00:00<00:00, 70.03batch/s, accuracy=91, loss=0.21]\n"
          ]
        },
        {
          "output_type": "stream",
          "name": "stdout",
          "text": [
            "valid loss=0.2722,accuracy=0.9134\n",
            "\n"
          ]
        },
        {
          "output_type": "stream",
          "name": "stderr",
          "text": [
            "Epoch5: 100%|██████████| 5/5 [00:00<00:00, 64.20batch/s, accuracy=94, loss=0.165]\n"
          ]
        },
        {
          "output_type": "stream",
          "name": "stdout",
          "text": [
            "valid loss=0.2406,accuracy=0.9639\n",
            "\n"
          ]
        },
        {
          "output_type": "stream",
          "name": "stderr",
          "text": [
            "Epoch6: 100%|██████████| 5/5 [00:00<00:00, 70.31batch/s, accuracy=98, loss=0.134]\n"
          ]
        },
        {
          "output_type": "stream",
          "name": "stdout",
          "text": [
            "valid loss=0.2152,accuracy=0.9679\n",
            "\n"
          ]
        },
        {
          "output_type": "stream",
          "name": "stderr",
          "text": [
            "Epoch7: 100%|██████████| 5/5 [00:00<00:00, 68.11batch/s, accuracy=97, loss=0.106]\n"
          ]
        },
        {
          "output_type": "stream",
          "name": "stdout",
          "text": [
            "valid loss=0.2181,accuracy=0.962\n",
            "\n"
          ]
        },
        {
          "output_type": "stream",
          "name": "stderr",
          "text": [
            "Epoch8: 100%|██████████| 5/5 [00:00<00:00, 70.83batch/s, accuracy=97, loss=0.0963]\n"
          ]
        },
        {
          "output_type": "stream",
          "name": "stdout",
          "text": [
            "valid loss=0.1921,accuracy=0.9687\n",
            "\n"
          ]
        },
        {
          "output_type": "stream",
          "name": "stderr",
          "text": [
            "Epoch9: 100%|██████████| 5/5 [00:00<00:00, 70.14batch/s, accuracy=100, loss=0.0728]\n"
          ]
        },
        {
          "output_type": "stream",
          "name": "stdout",
          "text": [
            "valid loss=0.1878,accuracy=0.9671\n",
            "\n"
          ]
        },
        {
          "output_type": "stream",
          "name": "stderr",
          "text": [
            "Epoch10: 100%|██████████| 5/5 [00:00<00:00, 67.92batch/s, accuracy=100, loss=0.0615]\n"
          ]
        },
        {
          "output_type": "stream",
          "name": "stdout",
          "text": [
            "valid loss=0.1877,accuracy=0.9649\n",
            "\n"
          ]
        },
        {
          "output_type": "stream",
          "name": "stderr",
          "text": [
            "Epoch11: 100%|██████████| 5/5 [00:00<00:00, 66.25batch/s, accuracy=100, loss=0.0526]\n"
          ]
        },
        {
          "output_type": "stream",
          "name": "stdout",
          "text": [
            "valid loss=0.1846,accuracy=0.9632\n",
            "\n"
          ]
        },
        {
          "output_type": "stream",
          "name": "stderr",
          "text": [
            "Epoch12: 100%|██████████| 5/5 [00:00<00:00, 68.97batch/s, accuracy=100, loss=0.0415]\n"
          ]
        },
        {
          "output_type": "stream",
          "name": "stdout",
          "text": [
            "valid loss=0.1825,accuracy=0.9679\n",
            "\n"
          ]
        },
        {
          "output_type": "stream",
          "name": "stderr",
          "text": [
            "Epoch13: 100%|██████████| 5/5 [00:00<00:00, 61.36batch/s, accuracy=100, loss=0.0396]\n"
          ]
        },
        {
          "output_type": "stream",
          "name": "stdout",
          "text": [
            "valid loss=0.1912,accuracy=0.9598\n",
            "\n"
          ]
        },
        {
          "output_type": "stream",
          "name": "stderr",
          "text": [
            "Epoch14: 100%|██████████| 5/5 [00:00<00:00, 64.65batch/s, accuracy=100, loss=0.0315]\n"
          ]
        },
        {
          "output_type": "stream",
          "name": "stdout",
          "text": [
            "valid loss=0.1848,accuracy=0.9653\n",
            "\n"
          ]
        },
        {
          "output_type": "stream",
          "name": "stderr",
          "text": [
            "Epoch15: 100%|██████████| 5/5 [00:00<00:00, 61.95batch/s, accuracy=100, loss=0.0268]\n"
          ]
        },
        {
          "output_type": "stream",
          "name": "stdout",
          "text": [
            "valid loss=0.1924,accuracy=0.9615\n",
            "\n"
          ]
        },
        {
          "output_type": "stream",
          "name": "stderr",
          "text": [
            "Epoch16: 100%|██████████| 5/5 [00:00<00:00, 68.01batch/s, accuracy=100, loss=0.0271]\n"
          ]
        },
        {
          "output_type": "stream",
          "name": "stdout",
          "text": [
            "valid loss=0.2008,accuracy=0.9582\n",
            "\n"
          ]
        },
        {
          "output_type": "stream",
          "name": "stderr",
          "text": [
            "Epoch17: 100%|██████████| 5/5 [00:00<00:00, 68.59batch/s, accuracy=100, loss=0.022]\n"
          ]
        },
        {
          "output_type": "stream",
          "name": "stdout",
          "text": [
            "valid loss=0.191,accuracy=0.9651\n",
            "\n"
          ]
        },
        {
          "output_type": "stream",
          "name": "stderr",
          "text": [
            "Epoch18: 100%|██████████| 5/5 [00:00<00:00, 62.71batch/s, accuracy=100, loss=0.0209]\n"
          ]
        },
        {
          "output_type": "stream",
          "name": "stdout",
          "text": [
            "valid loss=0.1942,accuracy=0.9641\n",
            "\n"
          ]
        },
        {
          "output_type": "stream",
          "name": "stderr",
          "text": [
            "Epoch19: 100%|██████████| 5/5 [00:00<00:00, 65.57batch/s, accuracy=100, loss=0.018]\n"
          ]
        },
        {
          "output_type": "stream",
          "name": "stdout",
          "text": [
            "valid loss=0.1967,accuracy=0.9641\n",
            "\n"
          ]
        },
        {
          "output_type": "stream",
          "name": "stderr",
          "text": [
            "Epoch20: 100%|██████████| 5/5 [00:00<00:00, 69.26batch/s, accuracy=100, loss=0.016]\n"
          ]
        },
        {
          "output_type": "stream",
          "name": "stdout",
          "text": [
            "valid loss=0.2095,accuracy=0.9608\n",
            "\n"
          ]
        },
        {
          "output_type": "stream",
          "name": "stderr",
          "text": [
            "Epoch21: 100%|██████████| 5/5 [00:00<00:00, 62.43batch/s, accuracy=100, loss=0.0145]\n"
          ]
        },
        {
          "output_type": "stream",
          "name": "stdout",
          "text": [
            "valid loss=0.2081,accuracy=0.9611\n",
            "\n"
          ]
        },
        {
          "output_type": "stream",
          "name": "stderr",
          "text": [
            "Epoch22: 100%|██████████| 5/5 [00:00<00:00, 70.84batch/s, accuracy=100, loss=0.0137]\n"
          ]
        },
        {
          "output_type": "stream",
          "name": "stdout",
          "text": [
            "valid loss=0.2064,accuracy=0.9638\n",
            "\n"
          ]
        },
        {
          "output_type": "stream",
          "name": "stderr",
          "text": [
            "Epoch23: 100%|██████████| 5/5 [00:00<00:00, 72.70batch/s, accuracy=100, loss=0.0127]\n"
          ]
        },
        {
          "output_type": "stream",
          "name": "stdout",
          "text": [
            "valid loss=0.2125,accuracy=0.9612\n",
            "\n"
          ]
        },
        {
          "output_type": "stream",
          "name": "stderr",
          "text": [
            "Epoch24: 100%|██████████| 5/5 [00:00<00:00, 71.49batch/s, accuracy=100, loss=0.0118]\n"
          ]
        },
        {
          "output_type": "stream",
          "name": "stdout",
          "text": [
            "valid loss=0.2136,accuracy=0.9629\n",
            "\n"
          ]
        }
      ]
    },
    {
      "cell_type": "code",
      "source": [
        "plt.plot(range(N),loss_train_hist,label='train loss')\n",
        "plt.plot(range(N),loss_valid_hist,label='valid loss')\n",
        "plt.grid()\n",
        "plt.xlabel('Epoch')\n",
        "plt.ylabel('Loss')\n",
        "plt.legend()\n",
        "plt.show()"
      ],
      "metadata": {
        "id": "t8ULySCiLjNz",
        "colab": {
          "base_uri": "https://localhost:8080/",
          "height": 282
        },
        "outputId": "41e88a82-fdf2-42ec-b863-59c6ed0c8306"
      },
      "execution_count": null,
      "outputs": [
        {
          "output_type": "display_data",
          "data": {
            "text/plain": [
              "<Figure size 432x288 with 1 Axes>"
            ],
            "image/png": "[encoded data removed]"
          },
          "metadata": {
            "needs_background": "light"
          }
        }
      ]
    },
    {
      "cell_type": "code",
      "source": [
        "model=nn.Sequential(nn.Linear(xtrain.shape[1],1024),\n",
        "                    nn.Dropout(0.1),\n",
        "                    nn.ReLU(),nn.Linear(1024,512),\n",
        "                    nn.Dropout(0.3),\n",
        "                    nn.ReLU(),nn.Linear(512,512),\n",
        "                    nn.Dropout(0.5),\n",
        "                    nn.ReLU(),nn.Linear(512,7),\n",
        "                    )\n",
        "optimizer=optim.SGD(model.parameters(),lr=0.1,weight_decay=1e-7)\n",
        "optimizer=optim.SGD(model.parameters(),lr=0.1,weight_decay=1e-7)"
      ],
      "metadata": {
        "id": "fppXy8D-Mem_"
      },
      "execution_count": null,
      "outputs": []
    },
    {
      "cell_type": "code",
      "source": [
        "model=model.to(device)"
      ],
      "metadata": {
        "id": "oDyyxUw3mSaU"
      },
      "execution_count": null,
      "outputs": []
    },
    {
      "cell_type": "code",
      "source": [
        "N=25\n",
        "acc_train_hist,loss_train_hist=[],[]\n",
        "acc_valid_hist,loss_valid_hist=[],[]\n",
        "\n",
        "for i in range(N):\n",
        "\n",
        "  model,train_loss,train_acc=train_one_epoch(model,mini_loader,loss_func,optimizer,i)\n",
        "  valid_loss,valid_acc=validation(model,valid_loader,loss_func)\n",
        "\n",
        "  acc_train_hist.append(train_acc)\n",
        "  loss_train_hist.append(train_loss)\n",
        "\n",
        "  acc_valid_hist.append(valid_acc)\n",
        "  loss_valid_hist.append(valid_loss)"
      ],
      "metadata": {
        "colab": {
          "base_uri": "https://localhost:8080/"
        },
        "id": "QsJWYyX6mSWl",
        "outputId": "e041820f-b260-4c97-c37a-d937024e7b75"
      },
      "execution_count": null,
      "outputs": [
        {
          "output_type": "stream",
          "name": "stderr",
          "text": [
            "Epoch0: 100%|██████████| 5/5 [00:00<00:00, 35.61batch/s, accuracy=65, loss=1.63]\n"
          ]
        },
        {
          "output_type": "stream",
          "name": "stdout",
          "text": [
            "valid loss=1.017,accuracy=0.7858\n",
            "\n"
          ]
        },
        {
          "output_type": "stream",
          "name": "stderr",
          "text": [
            "Epoch1: 100%|██████████| 5/5 [00:00<00:00, 49.91batch/s, accuracy=83, loss=0.692]\n"
          ]
        },
        {
          "output_type": "stream",
          "name": "stdout",
          "text": [
            "valid loss=0.5821,accuracy=0.7862\n",
            "\n"
          ]
        },
        {
          "output_type": "stream",
          "name": "stderr",
          "text": [
            "Epoch2: 100%|██████████| 5/5 [00:00<00:00, 62.37batch/s, accuracy=84, loss=0.437]\n"
          ]
        },
        {
          "output_type": "stream",
          "name": "stdout",
          "text": [
            "valid loss=0.4299,accuracy=0.8397\n",
            "\n"
          ]
        },
        {
          "output_type": "stream",
          "name": "stderr",
          "text": [
            "Epoch3: 100%|██████████| 5/5 [00:00<00:00, 75.58batch/s, accuracy=89, loss=0.322]\n"
          ]
        },
        {
          "output_type": "stream",
          "name": "stdout",
          "text": [
            "valid loss=0.3591,accuracy=0.8492\n",
            "\n"
          ]
        },
        {
          "output_type": "stream",
          "name": "stderr",
          "text": [
            "Epoch4: 100%|██████████| 5/5 [00:00<00:00, 70.68batch/s, accuracy=92, loss=0.226]\n"
          ]
        },
        {
          "output_type": "stream",
          "name": "stdout",
          "text": [
            "valid loss=0.3068,accuracy=0.8681\n",
            "\n"
          ]
        },
        {
          "output_type": "stream",
          "name": "stderr",
          "text": [
            "Epoch5: 100%|██████████| 5/5 [00:00<00:00, 62.91batch/s, accuracy=94, loss=0.178]\n"
          ]
        },
        {
          "output_type": "stream",
          "name": "stdout",
          "text": [
            "valid loss=0.2649,accuracy=0.9296\n",
            "\n"
          ]
        },
        {
          "output_type": "stream",
          "name": "stderr",
          "text": [
            "Epoch6: 100%|██████████| 5/5 [00:00<00:00, 65.38batch/s, accuracy=93, loss=0.191]\n"
          ]
        },
        {
          "output_type": "stream",
          "name": "stdout",
          "text": [
            "valid loss=0.2593,accuracy=0.9182\n",
            "\n"
          ]
        },
        {
          "output_type": "stream",
          "name": "stderr",
          "text": [
            "Epoch7: 100%|██████████| 5/5 [00:00<00:00, 72.24batch/s, accuracy=93, loss=0.147]\n"
          ]
        },
        {
          "output_type": "stream",
          "name": "stdout",
          "text": [
            "valid loss=0.2456,accuracy=0.9494\n",
            "\n"
          ]
        },
        {
          "output_type": "stream",
          "name": "stderr",
          "text": [
            "Epoch8: 100%|██████████| 5/5 [00:00<00:00, 63.41batch/s, accuracy=97, loss=0.125]\n"
          ]
        },
        {
          "output_type": "stream",
          "name": "stdout",
          "text": [
            "valid loss=0.2373,accuracy=0.9363\n",
            "\n"
          ]
        },
        {
          "output_type": "stream",
          "name": "stderr",
          "text": [
            "Epoch9: 100%|██████████| 5/5 [00:00<00:00, 65.78batch/s, accuracy=95, loss=0.127]\n"
          ]
        },
        {
          "output_type": "stream",
          "name": "stdout",
          "text": [
            "valid loss=0.2232,accuracy=0.9602\n",
            "\n"
          ]
        },
        {
          "output_type": "stream",
          "name": "stderr",
          "text": [
            "Epoch10: 100%|██████████| 5/5 [00:00<00:00, 71.65batch/s, accuracy=97, loss=0.093]\n"
          ]
        },
        {
          "output_type": "stream",
          "name": "stdout",
          "text": [
            "valid loss=0.205,accuracy=0.9641\n",
            "\n"
          ]
        },
        {
          "output_type": "stream",
          "name": "stderr",
          "text": [
            "Epoch11: 100%|██████████| 5/5 [00:00<00:00, 67.46batch/s, accuracy=100, loss=0.0666]\n"
          ]
        },
        {
          "output_type": "stream",
          "name": "stdout",
          "text": [
            "valid loss=0.2044,accuracy=0.9641\n",
            "\n"
          ]
        },
        {
          "output_type": "stream",
          "name": "stderr",
          "text": [
            "Epoch12: 100%|██████████| 5/5 [00:00<00:00, 68.86batch/s, accuracy=100, loss=0.0626]\n"
          ]
        },
        {
          "output_type": "stream",
          "name": "stdout",
          "text": [
            "valid loss=0.2062,accuracy=0.9613\n",
            "\n"
          ]
        },
        {
          "output_type": "stream",
          "name": "stderr",
          "text": [
            "Epoch13: 100%|██████████| 5/5 [00:00<00:00, 66.55batch/s, accuracy=99, loss=0.0606]\n"
          ]
        },
        {
          "output_type": "stream",
          "name": "stdout",
          "text": [
            "valid loss=0.2176,accuracy=0.9553\n",
            "\n"
          ]
        },
        {
          "output_type": "stream",
          "name": "stderr",
          "text": [
            "Epoch14: 100%|██████████| 5/5 [00:00<00:00, 70.11batch/s, accuracy=99, loss=0.0766]\n"
          ]
        },
        {
          "output_type": "stream",
          "name": "stdout",
          "text": [
            "valid loss=0.2015,accuracy=0.9664\n",
            "\n"
          ]
        },
        {
          "output_type": "stream",
          "name": "stderr",
          "text": [
            "Epoch15: 100%|██████████| 5/5 [00:00<00:00, 69.58batch/s, accuracy=100, loss=0.0372]\n"
          ]
        },
        {
          "output_type": "stream",
          "name": "stdout",
          "text": [
            "valid loss=0.2066,accuracy=0.9591\n",
            "\n"
          ]
        },
        {
          "output_type": "stream",
          "name": "stderr",
          "text": [
            "Epoch16: 100%|██████████| 5/5 [00:00<00:00, 60.77batch/s, accuracy=100, loss=0.0393]\n"
          ]
        },
        {
          "output_type": "stream",
          "name": "stdout",
          "text": [
            "valid loss=0.1958,accuracy=0.9651\n",
            "\n"
          ]
        },
        {
          "output_type": "stream",
          "name": "stderr",
          "text": [
            "Epoch17: 100%|██████████| 5/5 [00:00<00:00, 65.21batch/s, accuracy=100, loss=0.0338]\n"
          ]
        },
        {
          "output_type": "stream",
          "name": "stdout",
          "text": [
            "valid loss=0.219,accuracy=0.9586\n",
            "\n"
          ]
        },
        {
          "output_type": "stream",
          "name": "stderr",
          "text": [
            "Epoch18: 100%|██████████| 5/5 [00:00<00:00, 58.95batch/s, accuracy=100, loss=0.032]\n"
          ]
        },
        {
          "output_type": "stream",
          "name": "stdout",
          "text": [
            "valid loss=0.2225,accuracy=0.9602\n",
            "\n"
          ]
        },
        {
          "output_type": "stream",
          "name": "stderr",
          "text": [
            "Epoch19: 100%|██████████| 5/5 [00:00<00:00, 63.77batch/s, accuracy=100, loss=0.0275]\n"
          ]
        },
        {
          "output_type": "stream",
          "name": "stdout",
          "text": [
            "valid loss=0.2141,accuracy=0.9635\n",
            "\n"
          ]
        },
        {
          "output_type": "stream",
          "name": "stderr",
          "text": [
            "Epoch20: 100%|██████████| 5/5 [00:00<00:00, 69.85batch/s, accuracy=100, loss=0.0266]\n"
          ]
        },
        {
          "output_type": "stream",
          "name": "stdout",
          "text": [
            "valid loss=0.2114,accuracy=0.9633\n",
            "\n"
          ]
        },
        {
          "output_type": "stream",
          "name": "stderr",
          "text": [
            "Epoch21: 100%|██████████| 5/5 [00:00<00:00, 71.27batch/s, accuracy=100, loss=0.0193]\n"
          ]
        },
        {
          "output_type": "stream",
          "name": "stdout",
          "text": [
            "valid loss=0.2437,accuracy=0.9572\n",
            "\n"
          ]
        },
        {
          "output_type": "stream",
          "name": "stderr",
          "text": [
            "Epoch22: 100%|██████████| 5/5 [00:00<00:00, 54.55batch/s, accuracy=100, loss=0.0196]\n"
          ]
        },
        {
          "output_type": "stream",
          "name": "stdout",
          "text": [
            "valid loss=0.239,accuracy=0.9581\n",
            "\n"
          ]
        },
        {
          "output_type": "stream",
          "name": "stderr",
          "text": [
            "Epoch23: 100%|██████████| 5/5 [00:00<00:00, 66.39batch/s, accuracy=100, loss=0.019]\n"
          ]
        },
        {
          "output_type": "stream",
          "name": "stdout",
          "text": [
            "valid loss=0.2374,accuracy=0.9609\n",
            "\n"
          ]
        },
        {
          "output_type": "stream",
          "name": "stderr",
          "text": [
            "Epoch24: 100%|██████████| 5/5 [00:00<00:00, 58.50batch/s, accuracy=100, loss=0.0208]\n"
          ]
        },
        {
          "output_type": "stream",
          "name": "stdout",
          "text": [
            "valid loss=0.214,accuracy=0.9661\n",
            "\n"
          ]
        }
      ]
    },
    {
      "cell_type": "code",
      "source": [
        "plt.plot(range(N),loss_train_hist,label='train loss')\n",
        "plt.plot(range(N),loss_valid_hist,label='valid loss')\n",
        "plt.grid()\n",
        "plt.xlabel('Epoch')\n",
        "plt.ylabel('Loss')\n",
        "plt.legend()\n",
        "plt.show()"
      ],
      "metadata": {
        "colab": {
          "base_uri": "https://localhost:8080/",
          "height": 279
        },
        "id": "OBQGGrR9mV5J",
        "outputId": "75870a50-a3fd-411b-9355-c612e8f8d704"
      },
      "execution_count": null,
      "outputs": [
        {
          "output_type": "display_data",
          "data": {
            "text/plain": [
              "<Figure size 432x288 with 1 Axes>"
            ],
            "image/png": "[encoded data removed]"
          },
          "metadata": {
            "needs_background": "light"
          }
        }
      ]
    },
    {
      "cell_type": "code",
      "source": [],
      "metadata": {
        "id": "cMxj8G91mskH"
      },
      "execution_count": null,
      "outputs": []
    }
  ],
  "metadata": {
    "colab": {
      "provenance": []
    },
    "kernelspec": {
      "display_name": "Python 3",
      "name": "python3"
    },
    "language_info": {
      "name": "python"
    }
  },
  "nbformat": 4,
  "nbformat_minor": 0
}