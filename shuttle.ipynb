{
  "cells": [
    {
      "cell_type": "code",
      "execution_count": 138,
      "metadata": {
        "id": "qlViecE-lF42"
      },
      "outputs": [],
      "source": [
        "#ahmadreza baqerzadeh homaee"
      ]
    },
    {
      "cell_type": "code",
      "execution_count": 139,
      "metadata": {
        "id": "2aj7EyhzqIFy"
      },
      "outputs": [],
      "source": [
        "import torch as tc \n",
        "from torch import nn,optim \n",
        "from torchmetrics import Accuracy \n",
        "from torch.utils.data import DataLoader,TensorDataset \n",
        "import pandas as pd \n",
        "from sklearn.model_selection import train_test_split\n",
        "import matplotlib.pyplot as plt\n",
        "from tqdm import tqdm \n",
        "import csv\n",
        "from torch.utils.data import random_split"
      ]
    },
    {
      "cell_type": "code",
      "execution_count": 140,
      "metadata": {
        "colab": {
          "base_uri": "https://localhost:8080/"
        },
        "id": "AolGf4tyqpyf",
        "outputId": "0131136a-78a6-4c28-9f47-d50746d5523f"
      },
      "outputs": [
        {
          "name": "stdout",
          "output_type": "stream",
          "text": [
            "gzip: /home/ahmadreza/git/rep5/dataset/shuttle.trn.Z: No such file or directory\n"
          ]
        }
      ],
      "source": [
        "!uncompress '/home/ahmadreza/git/rep5/dataset/shuttle.trn.Z'"
      ]
    },
    {
      "cell_type": "code",
      "execution_count": 141,
      "metadata": {
        "id": "8EJi62QTq4MD"
      },
      "outputs": [],
      "source": [
        "def read_file(file):\n",
        "  with open(file, 'rb') as fh:\n",
        "      decompressed_data = fh.read()\n",
        "  list_data = decompressed_data.decode('utf-8').splitlines()\n",
        "  row=[]\n",
        "  for i in list_data:\n",
        "    col=[]\n",
        "    for j in i.split():\n",
        "        col.append(float(j))\n",
        "    row.append(col)\n",
        "  pd.DataFrame(row).to_csv('/home/ahmadreza/git/rep5/dataset/train.csv')\n",
        "\n",
        "read_file('/home/ahmadreza/git/rep5/dataset/shuttle.trn')\n",
        "train=pd.read_csv('/home/ahmadreza/git/rep5/dataset/train.csv')\n",
        "test=pd.read_csv('/home/ahmadreza/git/rep5/dataset/shuttledata_test.csv')"
      ]
    },
    {
      "cell_type": "code",
      "execution_count": 142,
      "metadata": {
        "id": "1YGUhgM8-mPB"
      },
      "outputs": [],
      "source": [
        "col=test.columns.values\n",
        "change=[]\n",
        "for i in col:\n",
        "  change.append(float(i))\n",
        "\n",
        "xtest=tc.cat((tc.FloatTensor(change).unsqueeze(dim=0),tc.FloatTensor(test.values)),dim=0)"
      ]
    },
    {
      "cell_type": "code",
      "execution_count": 143,
      "metadata": {},
      "outputs": [],
      "source": [
        "train.drop('Unnamed: 0',axis=1,inplace=True)"
      ]
    },
    {
      "cell_type": "code",
      "execution_count": 144,
      "metadata": {
        "id": "Bga9JBo3vJ6I"
      },
      "outputs": [],
      "source": [
        "x=train.drop('9',axis=1)\n",
        "y=train['9']-1"
      ]
    },
    {
      "cell_type": "code",
      "execution_count": 145,
      "metadata": {
        "id": "vNja16V2vLgH"
      },
      "outputs": [],
      "source": [
        "xtrain,xvalid,ytrain,yvalid=train_test_split(x,y,train_size=0.7,random_state=42)"
      ]
    },
    {
      "cell_type": "code",
      "execution_count": 146,
      "metadata": {
        "id": "F-g_jUhxvZx2"
      },
      "outputs": [],
      "source": [
        "xtrain=tc.FloatTensor(xtrain.values)\n",
        "ytrain=tc.LongTensor(ytrain.values)\n",
        "xvalid=tc.FloatTensor(xvalid.values)\n",
        "yvalid=tc.LongTensor(yvalid.values)"
      ]
    },
    {
      "cell_type": "code",
      "execution_count": 147,
      "metadata": {
        "id": "Tg9WH1kaxJ9d"
      },
      "outputs": [],
      "source": [
        "mean=xtrain.mean(dim=0)\n",
        "std=xtrain.std(dim=0)"
      ]
    },
    {
      "cell_type": "code",
      "execution_count": 148,
      "metadata": {
        "id": "MBUsjEmu9Xmz"
      },
      "outputs": [],
      "source": [
        "xtrain=(xtrain-mean)/std \n",
        "xvalid=(xvalid-mean)/std \n",
        "xtest=(xtest-mean)/std"
      ]
    },
    {
      "cell_type": "code",
      "execution_count": 149,
      "metadata": {
        "id": "GEmA1hqJBDAI"
      },
      "outputs": [],
      "source": [
        "train_dataset=TensorDataset(xtrain,ytrain)\n",
        "valid_dataset=TensorDataset(xvalid,yvalid)"
      ]
    },
    {
      "cell_type": "code",
      "execution_count": 150,
      "metadata": {
        "id": "sH_nKYA5BZRY"
      },
      "outputs": [],
      "source": [
        "train_loader=DataLoader(train_dataset,batch_size=128,shuffle=True)\n",
        "valid_loader=DataLoader(valid_dataset,batch_size=256,shuffle=False)"
      ]
    },
    {
      "cell_type": "code",
      "execution_count": 151,
      "metadata": {
        "id": "et2cxyVTCBQD"
      },
      "outputs": [],
      "source": [
        "device='cuda' if tc.cuda.is_available() else 'cpu'"
      ]
    },
    {
      "cell_type": "code",
      "execution_count": 152,
      "metadata": {
        "id": "r_jHTlCBBneQ"
      },
      "outputs": [],
      "source": [
        "model=nn.Sequential(nn.Linear(xtrain.shape[1],64),\n",
        "                    nn.ReLU(),nn.Linear(64,32),\n",
        "                    nn.ReLU(),nn.Linear(32,16),\n",
        "                    nn.ReLU(),nn.Linear(16,7))"
      ]
    },
    {
      "cell_type": "code",
      "execution_count": 153,
      "metadata": {
        "id": "JeDPzoJ1B8Ij"
      },
      "outputs": [],
      "source": [
        "model=model.to(device)"
      ]
    },
    {
      "cell_type": "code",
      "execution_count": 154,
      "metadata": {
        "id": "bj1HVvKLB-VU"
      },
      "outputs": [],
      "source": [
        "loss_func=nn.CrossEntropyLoss()\n",
        "optimizer=optim.SGD(model.parameters(),lr=0.1)"
      ]
    },
    {
      "cell_type": "code",
      "execution_count": 155,
      "metadata": {
        "id": "KVXsZRi4hqEV"
      },
      "outputs": [],
      "source": [
        "class AverageMeter(object):\n",
        "    \"\"\"Computes and stores the average and current value\"\"\"\n",
        "    def __init__(self):\n",
        "        self.reset()\n",
        "\n",
        "    def reset(self):\n",
        "        self.val = 0\n",
        "        self.avg = 0\n",
        "        self.sum = 0\n",
        "        self.count = 0\n",
        "\n",
        "    def update(self, val, n=1):\n",
        "        self.val = val\n",
        "        self.sum += val * n\n",
        "        self.count += n\n",
        "        self.avg = self.sum / self.count"
      ]
    },
    {
      "cell_type": "code",
      "execution_count": 156,
      "metadata": {
        "id": "9oFnC-b8Cf8x"
      },
      "outputs": [],
      "source": [
        "def train_one_epoch(model,train_loader,loss_func,optimizer,epoch):\n",
        "  model.train()\n",
        "  train_loss=AverageMeter()\n",
        "  train_acc=Accuracy(task='multiclass',num_classes=7).to(device)\n",
        "  with tqdm(train_loader,unit='batch') as tepoch:\n",
        "    for x,y in tepoch:\n",
        "        if epoch is not None:\n",
        "          tepoch.set_description(f'Epoch{epoch}')\n",
        "        x=x.to(device)\n",
        "        y=y.to(device)\n",
        "        yp=model(x)\n",
        "        loss=loss_func(yp.squeeze(),y)\n",
        "        train_loss.update(loss.item())\n",
        "        loss.backward()\n",
        "        optimizer.step()\n",
        "        optimizer.zero_grad()\n",
        "        train_acc(yp,y.int())\n",
        "        tepoch.set_postfix(loss=train_loss.avg,\n",
        "                      accuracy=100*train_acc.compute().item())\n",
        "\n",
        "\n",
        "  return model,train_loss.avg,train_acc.compute().item()\n",
        "\n",
        "def validation(model,valid_loader,loss_func):\n",
        "\n",
        "  valid_loss=AverageMeter()\n",
        "  valid_acc=Accuracy(task='multiclass',num_classes=7).to(device)\n",
        "\n",
        "  for j,(x,y) in enumerate(valid_loader):\n",
        "    x=x.to(device)\n",
        "    y=y.to(device)\n",
        "    yp=model(x)\n",
        "    loss=loss_func(yp.squeeze(),y)\n",
        "    valid_loss.update(loss.item())\n",
        "    valid_acc(yp.squeeze(),y)\n",
        "\n",
        "  print(f'valid loss={valid_loss.avg:.4},accuracy={valid_acc.compute():.4}')\n",
        "  print()\n",
        "\n",
        "  return valid_loss.avg,valid_acc.compute().item()"
      ]
    },
    {
      "cell_type": "code",
      "execution_count": 157,
      "metadata": {
        "colab": {
          "base_uri": "https://localhost:8080/"
        },
        "id": "6VFhmrxLEQ0_",
        "outputId": "9d5cbf24-c6f9-4682-82ea-b9c129217328"
      },
      "outputs": [
        {
          "data": {
            "text/plain": [
              "tensor(2.1532, device='cuda:0', grad_fn=<NllLossBackward0>)"
            ]
          },
          "execution_count": 157,
          "metadata": {},
          "output_type": "execute_result"
        }
      ],
      "source": [
        "xbatch,ybatch=next(iter(train_loader))\n",
        "yp=model(xbatch.to(device))\n",
        "loss_func(yp,ybatch.to(device))\n",
        "  "
      ]
    },
    {
      "cell_type": "code",
      "execution_count": 158,
      "metadata": {
        "id": "RN1Uzh5sxAgL"
      },
      "outputs": [],
      "source": [
        "mini_batch,_=random_split(train_dataset,(100,len(train_dataset)-100))\n",
        "mini_loader=DataLoader(mini_batch,batch_size=20,shuffle=True)"
      ]
    },
    {
      "cell_type": "code",
      "execution_count": 159,
      "metadata": {
        "colab": {
          "base_uri": "https://localhost:8080/"
        },
        "id": "kOcdvcPhxtMd",
        "outputId": "b625339c-1d07-46b5-ed83-564d76e66456"
      },
      "outputs": [
        {
          "name": "stderr",
          "output_type": "stream",
          "text": [
            "Epoch0: 100%|██████████| 5/5 [00:00<00:00, 226.34batch/s, accuracy=5, loss=2]\n",
            "Epoch1: 100%|██████████| 5/5 [00:00<00:00, 273.02batch/s, accuracy=79, loss=1.64]\n",
            "Epoch2: 100%|██████████| 5/5 [00:00<00:00, 232.74batch/s, accuracy=79, loss=1.33]\n",
            "Epoch3: 100%|██████████| 5/5 [00:00<00:00, 232.06batch/s, accuracy=79, loss=1.05]\n",
            "Epoch4: 100%|██████████| 5/5 [00:00<00:00, 205.27batch/s, accuracy=79, loss=0.849]\n",
            "Epoch5: 100%|██████████| 5/5 [00:00<00:00, 214.72batch/s, accuracy=79, loss=0.721]\n",
            "Epoch6: 100%|██████████| 5/5 [00:00<00:00, 211.08batch/s, accuracy=79, loss=0.637]\n",
            "Epoch7: 100%|██████████| 5/5 [00:00<00:00, 213.84batch/s, accuracy=79, loss=0.586]\n",
            "Epoch8: 100%|██████████| 5/5 [00:00<00:00, 237.65batch/s, accuracy=79, loss=0.545]\n",
            "Epoch9: 100%|██████████| 5/5 [00:00<00:00, 211.47batch/s, accuracy=79, loss=0.506]\n"
          ]
        }
      ],
      "source": [
        "for i in range(10):\n",
        "  model,_,_=train_one_epoch(model,mini_loader,loss_func,optimizer,i)\n"
      ]
    },
    {
      "cell_type": "code",
      "execution_count": 160,
      "metadata": {
        "colab": {
          "base_uri": "https://localhost:8080/"
        },
        "id": "vjHKyFXkyQJk",
        "outputId": "a9664d4c-1dfb-4c1f-ea8d-a0f3b9c2a14d"
      },
      "outputs": [
        {
          "name": "stdout",
          "output_type": "stream",
          "text": [
            "LR=0.1\n"
          ]
        },
        {
          "name": "stderr",
          "output_type": "stream",
          "text": [
            "Epoch1: 100%|██████████| 238/238 [00:01<00:00, 199.17batch/s, accuracy=91.1, loss=0.334]\n"
          ]
        },
        {
          "name": "stdout",
          "output_type": "stream",
          "text": [
            "LR=0.01\n"
          ]
        },
        {
          "name": "stderr",
          "output_type": "stream",
          "text": [
            "Epoch1: 100%|██████████| 238/238 [00:01<00:00, 193.90batch/s, accuracy=62.7, loss=1.4] \n"
          ]
        },
        {
          "name": "stdout",
          "output_type": "stream",
          "text": [
            "LR=0.001\n"
          ]
        },
        {
          "name": "stderr",
          "output_type": "stream",
          "text": [
            "Epoch1: 100%|██████████| 238/238 [00:01<00:00, 211.30batch/s, accuracy=70.4, loss=1.78]\n"
          ]
        },
        {
          "name": "stdout",
          "output_type": "stream",
          "text": [
            "LR=0.0001\n"
          ]
        },
        {
          "name": "stderr",
          "output_type": "stream",
          "text": [
            "Epoch1: 100%|██████████| 238/238 [00:01<00:00, 214.44batch/s, accuracy=15.5, loss=1.94]\n"
          ]
        }
      ],
      "source": [
        "for lr in [0.1,0.01,0.001,0.0001]:\n",
        "  model=nn.Sequential(nn.Linear(xtrain.shape[1],64),\n",
        "                    nn.ReLU(),nn.Linear(64,32),\n",
        "                    nn.ReLU(),nn.Linear(32,16),\n",
        "                    nn.ReLU(),nn.Linear(16,7)).to(device)\n",
        "  optimizer=optim.SGD(model.parameters(),lr=lr)\n",
        "  print(f'LR={lr}')\n",
        "  model,train_loss,train_acc=train_one_epoch(model,train_loader,loss_func,optimizer,1)"
      ]
    },
    {
      "cell_type": "code",
      "execution_count": 161,
      "metadata": {
        "colab": {
          "base_uri": "https://localhost:8080/"
        },
        "id": "dygBkgMIgq35",
        "outputId": "7c0df7d5-8e07-4fce-9728-46029a74e5e3"
      },
      "outputs": [
        {
          "name": "stdout",
          "output_type": "stream",
          "text": [
            "LR=0.1,weight_decay=0\n"
          ]
        },
        {
          "name": "stderr",
          "output_type": "stream",
          "text": [
            "Epoch0: 100%|██████████| 238/238 [00:01<00:00, 218.79batch/s, accuracy=89.6, loss=0.357]\n",
            "Epoch1: 100%|██████████| 238/238 [00:01<00:00, 211.94batch/s, accuracy=98.5, loss=0.0992]\n",
            "Epoch2: 100%|██████████| 238/238 [00:01<00:00, 209.90batch/s, accuracy=99.2, loss=0.0659]\n",
            "Epoch3: 100%|██████████| 238/238 [00:01<00:00, 196.17batch/s, accuracy=99.3, loss=0.0509]\n",
            "Epoch4: 100%|██████████| 238/238 [00:01<00:00, 210.68batch/s, accuracy=99.4, loss=0.044] \n"
          ]
        },
        {
          "name": "stdout",
          "output_type": "stream",
          "text": [
            "\n",
            "LR=0.1,weight_decay=0.0001\n"
          ]
        },
        {
          "name": "stderr",
          "output_type": "stream",
          "text": [
            "Epoch0: 100%|██████████| 238/238 [00:01<00:00, 213.50batch/s, accuracy=89.4, loss=0.364]\n",
            "Epoch1: 100%|██████████| 238/238 [00:01<00:00, 181.85batch/s, accuracy=98.4, loss=0.0982]\n",
            "Epoch2: 100%|██████████| 238/238 [00:01<00:00, 176.15batch/s, accuracy=99.2, loss=0.0671]\n",
            "Epoch3: 100%|██████████| 238/238 [00:01<00:00, 200.61batch/s, accuracy=99.3, loss=0.0537]\n",
            "Epoch4: 100%|██████████| 238/238 [00:01<00:00, 212.92batch/s, accuracy=99.4, loss=0.0463]\n"
          ]
        },
        {
          "name": "stdout",
          "output_type": "stream",
          "text": [
            "\n",
            "LR=0.1,weight_decay=1e-05\n"
          ]
        },
        {
          "name": "stderr",
          "output_type": "stream",
          "text": [
            "Epoch0: 100%|██████████| 238/238 [00:01<00:00, 195.98batch/s, accuracy=88.5, loss=0.384]\n",
            "Epoch1: 100%|██████████| 238/238 [00:01<00:00, 209.06batch/s, accuracy=98.6, loss=0.0907]\n",
            "Epoch2: 100%|██████████| 238/238 [00:01<00:00, 196.70batch/s, accuracy=99.2, loss=0.0608]\n",
            "Epoch3: 100%|██████████| 238/238 [00:01<00:00, 198.72batch/s, accuracy=99.4, loss=0.0535]\n",
            "Epoch4: 100%|██████████| 238/238 [00:01<00:00, 194.94batch/s, accuracy=99.4, loss=0.0456]\n"
          ]
        },
        {
          "name": "stdout",
          "output_type": "stream",
          "text": [
            "\n",
            "LR=0.1,weight_decay=1e-06\n"
          ]
        },
        {
          "name": "stderr",
          "output_type": "stream",
          "text": [
            "Epoch0: 100%|██████████| 238/238 [00:01<00:00, 206.37batch/s, accuracy=89, loss=0.368]  \n",
            "Epoch1: 100%|██████████| 238/238 [00:01<00:00, 213.06batch/s, accuracy=98.8, loss=0.0803]\n",
            "Epoch2: 100%|██████████| 238/238 [00:01<00:00, 224.20batch/s, accuracy=99.4, loss=0.0539]\n",
            "Epoch3: 100%|██████████| 238/238 [00:01<00:00, 207.89batch/s, accuracy=99.4, loss=0.0427]\n",
            "Epoch4: 100%|██████████| 238/238 [00:01<00:00, 173.45batch/s, accuracy=99.4, loss=0.0371]\n"
          ]
        },
        {
          "name": "stdout",
          "output_type": "stream",
          "text": [
            "\n",
            "LR=0.1,weight_decay=1e-07\n"
          ]
        },
        {
          "name": "stderr",
          "output_type": "stream",
          "text": [
            "Epoch0: 100%|██████████| 238/238 [00:01<00:00, 166.61batch/s, accuracy=90.7, loss=0.343]\n",
            "Epoch1: 100%|██████████| 238/238 [00:01<00:00, 209.40batch/s, accuracy=98.2, loss=0.0947]\n",
            "Epoch2: 100%|██████████| 238/238 [00:01<00:00, 209.12batch/s, accuracy=99.1, loss=0.0669]\n",
            "Epoch3: 100%|██████████| 238/238 [00:01<00:00, 187.91batch/s, accuracy=99.3, loss=0.0568]\n",
            "Epoch4: 100%|██████████| 238/238 [00:01<00:00, 206.22batch/s, accuracy=99.4, loss=0.048] \n"
          ]
        },
        {
          "name": "stdout",
          "output_type": "stream",
          "text": [
            "\n",
            "LR=0.15,weight_decay=0\n"
          ]
        },
        {
          "name": "stderr",
          "output_type": "stream",
          "text": [
            "Epoch0: 100%|██████████| 238/238 [00:01<00:00, 212.89batch/s, accuracy=93.5, loss=0.271]\n",
            "Epoch1: 100%|██████████| 238/238 [00:00<00:00, 248.00batch/s, accuracy=99.3, loss=0.0599]\n",
            "Epoch2: 100%|██████████| 238/238 [00:00<00:00, 248.47batch/s, accuracy=99.4, loss=0.0429]\n",
            "Epoch3: 100%|██████████| 238/238 [00:01<00:00, 226.94batch/s, accuracy=99.5, loss=0.0361]\n",
            "Epoch4: 100%|██████████| 238/238 [00:01<00:00, 190.51batch/s, accuracy=99.4, loss=0.0321]\n"
          ]
        },
        {
          "name": "stdout",
          "output_type": "stream",
          "text": [
            "\n",
            "LR=0.15,weight_decay=0.0001\n"
          ]
        },
        {
          "name": "stderr",
          "output_type": "stream",
          "text": [
            "Epoch0: 100%|██████████| 238/238 [00:01<00:00, 216.02batch/s, accuracy=92.6, loss=0.276]\n",
            "Epoch1: 100%|██████████| 238/238 [00:01<00:00, 195.65batch/s, accuracy=98.9, loss=0.07]  \n",
            "Epoch2: 100%|██████████| 238/238 [00:01<00:00, 227.19batch/s, accuracy=99.2, loss=0.0482]\n",
            "Epoch3: 100%|██████████| 238/238 [00:01<00:00, 226.42batch/s, accuracy=99.3, loss=0.0427]\n",
            "Epoch4: 100%|██████████| 238/238 [00:01<00:00, 209.77batch/s, accuracy=99.3, loss=0.0358]\n"
          ]
        },
        {
          "name": "stdout",
          "output_type": "stream",
          "text": [
            "\n",
            "LR=0.15,weight_decay=1e-05\n"
          ]
        },
        {
          "name": "stderr",
          "output_type": "stream",
          "text": [
            "Epoch0: 100%|██████████| 238/238 [00:01<00:00, 229.68batch/s, accuracy=91.8, loss=0.294]\n",
            "Epoch1: 100%|██████████| 238/238 [00:01<00:00, 215.68batch/s, accuracy=98.9, loss=0.0825]\n",
            "Epoch2: 100%|██████████| 238/238 [00:01<00:00, 219.86batch/s, accuracy=99.3, loss=0.054] \n",
            "Epoch3: 100%|██████████| 238/238 [00:01<00:00, 231.19batch/s, accuracy=99.4, loss=0.0431]\n",
            "Epoch4: 100%|██████████| 238/238 [00:00<00:00, 250.87batch/s, accuracy=99.4, loss=0.0352]\n"
          ]
        },
        {
          "name": "stdout",
          "output_type": "stream",
          "text": [
            "\n",
            "LR=0.15,weight_decay=1e-06\n"
          ]
        },
        {
          "name": "stderr",
          "output_type": "stream",
          "text": [
            "Epoch0: 100%|██████████| 238/238 [00:00<00:00, 258.72batch/s, accuracy=92, loss=0.29]   \n",
            "Epoch1: 100%|██████████| 238/238 [00:00<00:00, 252.85batch/s, accuracy=99.1, loss=0.077] \n",
            "Epoch2: 100%|██████████| 238/238 [00:00<00:00, 252.67batch/s, accuracy=99.3, loss=0.0488]\n",
            "Epoch3: 100%|██████████| 238/238 [00:00<00:00, 254.63batch/s, accuracy=99.3, loss=0.0408]\n",
            "Epoch4: 100%|██████████| 238/238 [00:00<00:00, 256.94batch/s, accuracy=99.4, loss=0.0345]\n"
          ]
        },
        {
          "name": "stdout",
          "output_type": "stream",
          "text": [
            "\n",
            "LR=0.15,weight_decay=1e-07\n"
          ]
        },
        {
          "name": "stderr",
          "output_type": "stream",
          "text": [
            "Epoch0: 100%|██████████| 238/238 [00:00<00:00, 260.29batch/s, accuracy=94, loss=0.252]  \n",
            "Epoch1: 100%|██████████| 238/238 [00:00<00:00, 255.36batch/s, accuracy=99.2, loss=0.0598]\n",
            "Epoch2: 100%|██████████| 238/238 [00:00<00:00, 256.51batch/s, accuracy=99.3, loss=0.0445]\n",
            "Epoch3: 100%|██████████| 238/238 [00:00<00:00, 259.07batch/s, accuracy=99.4, loss=0.0372]\n",
            "Epoch4: 100%|██████████| 238/238 [00:00<00:00, 260.83batch/s, accuracy=99.4, loss=0.0323]\n"
          ]
        },
        {
          "name": "stdout",
          "output_type": "stream",
          "text": [
            "\n",
            "LR=0.2,weight_decay=0\n"
          ]
        },
        {
          "name": "stderr",
          "output_type": "stream",
          "text": [
            "Epoch0: 100%|██████████| 238/238 [00:00<00:00, 256.62batch/s, accuracy=93.2, loss=0.258]\n",
            "Epoch1: 100%|██████████| 238/238 [00:01<00:00, 211.54batch/s, accuracy=98.9, loss=0.0772]\n",
            "Epoch2: 100%|██████████| 238/238 [00:01<00:00, 185.67batch/s, accuracy=99.3, loss=0.0446]\n",
            "Epoch3: 100%|██████████| 238/238 [00:01<00:00, 222.26batch/s, accuracy=99.4, loss=0.0364]\n",
            "Epoch4: 100%|██████████| 238/238 [00:01<00:00, 195.22batch/s, accuracy=99.5, loss=0.0312]\n"
          ]
        },
        {
          "name": "stdout",
          "output_type": "stream",
          "text": [
            "\n",
            "LR=0.2,weight_decay=0.0001\n"
          ]
        },
        {
          "name": "stderr",
          "output_type": "stream",
          "text": [
            "Epoch0: 100%|██████████| 238/238 [00:01<00:00, 180.31batch/s, accuracy=95.2, loss=0.2]  \n",
            "Epoch1: 100%|██████████| 238/238 [00:01<00:00, 199.17batch/s, accuracy=99.3, loss=0.0529]\n",
            "Epoch2: 100%|██████████| 238/238 [00:01<00:00, 209.38batch/s, accuracy=99.4, loss=0.0375]\n",
            "Epoch3: 100%|██████████| 238/238 [00:01<00:00, 206.14batch/s, accuracy=99.5, loss=0.0323]\n",
            "Epoch4: 100%|██████████| 238/238 [00:01<00:00, 195.91batch/s, accuracy=99.5, loss=0.0281]\n"
          ]
        },
        {
          "name": "stdout",
          "output_type": "stream",
          "text": [
            "\n",
            "LR=0.2,weight_decay=1e-05\n"
          ]
        },
        {
          "name": "stderr",
          "output_type": "stream",
          "text": [
            "Epoch0: 100%|██████████| 238/238 [00:01<00:00, 214.31batch/s, accuracy=93.4, loss=0.267]\n",
            "Epoch1: 100%|██████████| 238/238 [00:01<00:00, 208.65batch/s, accuracy=99.2, loss=0.0683]\n",
            "Epoch2: 100%|██████████| 238/238 [00:01<00:00, 204.14batch/s, accuracy=99.4, loss=0.0474]\n",
            "Epoch3: 100%|██████████| 238/238 [00:01<00:00, 198.06batch/s, accuracy=99.4, loss=0.0366]\n",
            "Epoch4: 100%|██████████| 238/238 [00:01<00:00, 205.38batch/s, accuracy=99.5, loss=0.0309]\n"
          ]
        },
        {
          "name": "stdout",
          "output_type": "stream",
          "text": [
            "\n",
            "LR=0.2,weight_decay=1e-06\n"
          ]
        },
        {
          "name": "stderr",
          "output_type": "stream",
          "text": [
            "Epoch0: 100%|██████████| 238/238 [00:01<00:00, 207.26batch/s, accuracy=94.4, loss=0.218]\n",
            "Epoch1: 100%|██████████| 238/238 [00:01<00:00, 206.94batch/s, accuracy=99.2, loss=0.0519]\n",
            "Epoch2: 100%|██████████| 238/238 [00:01<00:00, 210.96batch/s, accuracy=99.4, loss=0.0376]\n",
            "Epoch3: 100%|██████████| 238/238 [00:01<00:00, 201.34batch/s, accuracy=99.4, loss=0.0314]\n",
            "Epoch4: 100%|██████████| 238/238 [00:01<00:00, 198.78batch/s, accuracy=99.5, loss=0.0272]\n"
          ]
        },
        {
          "name": "stdout",
          "output_type": "stream",
          "text": [
            "\n",
            "LR=0.2,weight_decay=1e-07\n"
          ]
        },
        {
          "name": "stderr",
          "output_type": "stream",
          "text": [
            "Epoch0: 100%|██████████| 238/238 [00:01<00:00, 211.90batch/s, accuracy=94.2, loss=0.229]\n",
            "Epoch1: 100%|██████████| 238/238 [00:01<00:00, 211.39batch/s, accuracy=99.1, loss=0.065] \n",
            "Epoch2: 100%|██████████| 238/238 [00:01<00:00, 199.39batch/s, accuracy=99.3, loss=0.0443]\n",
            "Epoch3: 100%|██████████| 238/238 [00:01<00:00, 202.51batch/s, accuracy=99.4, loss=0.035] \n",
            "Epoch4: 100%|██████████| 238/238 [00:01<00:00, 201.75batch/s, accuracy=99.5, loss=0.0293]\n"
          ]
        },
        {
          "name": "stdout",
          "output_type": "stream",
          "text": [
            "\n",
            "LR=0.25,weight_decay=0\n"
          ]
        },
        {
          "name": "stderr",
          "output_type": "stream",
          "text": [
            "Epoch0: 100%|██████████| 238/238 [00:01<00:00, 208.98batch/s, accuracy=95.1, loss=0.227]\n",
            "Epoch1: 100%|██████████| 238/238 [00:01<00:00, 205.43batch/s, accuracy=99.1, loss=0.0524]\n",
            "Epoch2: 100%|██████████| 238/238 [00:01<00:00, 180.28batch/s, accuracy=99.3, loss=0.0383]\n",
            "Epoch3: 100%|██████████| 238/238 [00:01<00:00, 207.07batch/s, accuracy=99.4, loss=0.0315]\n",
            "Epoch4: 100%|██████████| 238/238 [00:01<00:00, 167.45batch/s, accuracy=99.4, loss=0.0277]\n"
          ]
        },
        {
          "name": "stdout",
          "output_type": "stream",
          "text": [
            "\n",
            "LR=0.25,weight_decay=0.0001\n"
          ]
        },
        {
          "name": "stderr",
          "output_type": "stream",
          "text": [
            "Epoch0: 100%|██████████| 238/238 [00:01<00:00, 158.35batch/s, accuracy=93.6, loss=0.239]\n",
            "Epoch1: 100%|██████████| 238/238 [00:01<00:00, 159.51batch/s, accuracy=99.2, loss=0.0562]\n",
            "Epoch2: 100%|██████████| 238/238 [00:01<00:00, 161.26batch/s, accuracy=99.2, loss=0.0417]\n",
            "Epoch3: 100%|██████████| 238/238 [00:01<00:00, 170.46batch/s, accuracy=99.3, loss=0.0348]\n",
            "Epoch4: 100%|██████████| 238/238 [00:01<00:00, 200.02batch/s, accuracy=99.4, loss=0.0288]\n"
          ]
        },
        {
          "name": "stdout",
          "output_type": "stream",
          "text": [
            "\n",
            "LR=0.25,weight_decay=1e-05\n"
          ]
        },
        {
          "name": "stderr",
          "output_type": "stream",
          "text": [
            "Epoch0: 100%|██████████| 238/238 [00:01<00:00, 186.85batch/s, accuracy=94.7, loss=0.217]\n",
            "Epoch1: 100%|██████████| 238/238 [00:01<00:00, 169.76batch/s, accuracy=99.1, loss=0.0678]\n",
            "Epoch2: 100%|██████████| 238/238 [00:01<00:00, 191.40batch/s, accuracy=99.4, loss=0.041] \n",
            "Epoch3: 100%|██████████| 238/238 [00:01<00:00, 180.33batch/s, accuracy=99.4, loss=0.0327]\n",
            "Epoch4: 100%|██████████| 238/238 [00:01<00:00, 188.75batch/s, accuracy=99.5, loss=0.0271]\n"
          ]
        },
        {
          "name": "stdout",
          "output_type": "stream",
          "text": [
            "\n",
            "LR=0.25,weight_decay=1e-06\n"
          ]
        },
        {
          "name": "stderr",
          "output_type": "stream",
          "text": [
            "Epoch0: 100%|██████████| 238/238 [00:01<00:00, 181.60batch/s, accuracy=94.2, loss=0.216]\n",
            "Epoch1: 100%|██████████| 238/238 [00:01<00:00, 194.37batch/s, accuracy=99.1, loss=0.0672]\n",
            "Epoch2: 100%|██████████| 238/238 [00:01<00:00, 179.04batch/s, accuracy=99.3, loss=0.0395]\n",
            "Epoch3: 100%|██████████| 238/238 [00:01<00:00, 181.79batch/s, accuracy=99.4, loss=0.0333]\n",
            "Epoch4: 100%|██████████| 238/238 [00:01<00:00, 197.18batch/s, accuracy=99.4, loss=0.0283]\n"
          ]
        },
        {
          "name": "stdout",
          "output_type": "stream",
          "text": [
            "\n",
            "LR=0.25,weight_decay=1e-07\n"
          ]
        },
        {
          "name": "stderr",
          "output_type": "stream",
          "text": [
            "Epoch0: 100%|██████████| 238/238 [00:01<00:00, 207.92batch/s, accuracy=94.6, loss=0.224]\n",
            "Epoch1: 100%|██████████| 238/238 [00:01<00:00, 186.50batch/s, accuracy=99.2, loss=0.0585]\n",
            "Epoch2: 100%|██████████| 238/238 [00:01<00:00, 177.97batch/s, accuracy=99.3, loss=0.0398]\n",
            "Epoch3: 100%|██████████| 238/238 [00:01<00:00, 179.51batch/s, accuracy=99.5, loss=0.0322]\n",
            "Epoch4: 100%|██████████| 238/238 [00:01<00:00, 187.42batch/s, accuracy=99.5, loss=0.0288]"
          ]
        },
        {
          "name": "stdout",
          "output_type": "stream",
          "text": [
            "\n"
          ]
        },
        {
          "name": "stderr",
          "output_type": "stream",
          "text": [
            "\n"
          ]
        }
      ],
      "source": [
        "lr_n=[0.1,0.15,0.2,0.25]\n",
        "wd_n=[0,1e-4,1e-5,1e-6,1e-7]\n",
        "result=[]\n",
        "for lr in lr_n:\n",
        "  lr_result=[]\n",
        "  for wd in wd_n:\n",
        "    model=nn.Sequential(nn.Linear(xtrain.shape[1],64),\n",
        "                    nn.ReLU(),nn.Linear(64,32),\n",
        "                    nn.ReLU(),nn.Linear(32,16),\n",
        "                    nn.ReLU(),nn.Linear(16,7)).to(device)\n",
        "    optimizer=optim.SGD(model.parameters(),lr=lr)\n",
        "    N=5\n",
        "    print(f'LR={lr},weight_decay={wd}')\n",
        "\n",
        "    for i in range(N):\n",
        "\n",
        "      model,train_loss,_=train_one_epoch(model,train_loader,loss_func,optimizer,i)\n",
        "\n",
        "      if i==0:\n",
        "        e1=train_loss\n",
        "      if i==N-1:\n",
        "        e2=train_loss\n",
        "\n",
        "    lr_result.append(f'{e1:.4}-{e2:.4}={e1-e2:.4}')\n",
        "    print()\n",
        "  result.append(lr_result)"
      ]
    },
    {
      "cell_type": "code",
      "execution_count": 162,
      "metadata": {
        "colab": {
          "base_uri": "https://localhost:8080/",
          "height": 175
        },
        "id": "9PlzqwVHkZPg",
        "outputId": "5eff7102-2628-4658-a71b-c47ed38d3cb2"
      },
      "outputs": [
        {
          "data": {
            "text/html": [
              "<div>\n",
              "<style scoped>\n",
              "    .dataframe tbody tr th:only-of-type {\n",
              "        vertical-align: middle;\n",
              "    }\n",
              "\n",
              "    .dataframe tbody tr th {\n",
              "        vertical-align: top;\n",
              "    }\n",
              "\n",
              "    .dataframe thead th {\n",
              "        text-align: right;\n",
              "    }\n",
              "</style>\n",
              "<table border=\"1\" class=\"dataframe\">\n",
              "  <thead>\n",
              "    <tr style=\"text-align: right;\">\n",
              "      <th></th>\n",
              "      <th>0.000000e+00</th>\n",
              "      <th>1.000000e-04</th>\n",
              "      <th>1.000000e-05</th>\n",
              "      <th>1.000000e-06</th>\n",
              "      <th>1.000000e-07</th>\n",
              "    </tr>\n",
              "  </thead>\n",
              "  <tbody>\n",
              "    <tr>\n",
              "      <th>0.10</th>\n",
              "      <td>0.3571-0.04395=0.3132</td>\n",
              "      <td>0.3645-0.04629=0.3182</td>\n",
              "      <td>0.3841-0.04558=0.3385</td>\n",
              "      <td>0.3681-0.03714=0.3309</td>\n",
              "      <td>0.3427-0.048=0.2947</td>\n",
              "    </tr>\n",
              "    <tr>\n",
              "      <th>0.15</th>\n",
              "      <td>0.271-0.03207=0.2389</td>\n",
              "      <td>0.2763-0.0358=0.2405</td>\n",
              "      <td>0.2944-0.03516=0.2592</td>\n",
              "      <td>0.2901-0.0345=0.2556</td>\n",
              "      <td>0.2516-0.03229=0.2193</td>\n",
              "    </tr>\n",
              "    <tr>\n",
              "      <th>0.20</th>\n",
              "      <td>0.2578-0.03123=0.2266</td>\n",
              "      <td>0.2002-0.02813=0.1721</td>\n",
              "      <td>0.2667-0.03091=0.2358</td>\n",
              "      <td>0.2182-0.02718=0.191</td>\n",
              "      <td>0.2286-0.02934=0.1993</td>\n",
              "    </tr>\n",
              "    <tr>\n",
              "      <th>0.25</th>\n",
              "      <td>0.2266-0.02773=0.1988</td>\n",
              "      <td>0.2395-0.02883=0.2107</td>\n",
              "      <td>0.217-0.02713=0.1899</td>\n",
              "      <td>0.2156-0.02833=0.1873</td>\n",
              "      <td>0.224-0.02878=0.1952</td>\n",
              "    </tr>\n",
              "  </tbody>\n",
              "</table>\n",
              "</div>"
            ],
            "text/plain": [
              "               0.000000e+00           1.000000e-04           1.000000e-05  \\\n",
              "0.10  0.3571-0.04395=0.3132  0.3645-0.04629=0.3182  0.3841-0.04558=0.3385   \n",
              "0.15   0.271-0.03207=0.2389   0.2763-0.0358=0.2405  0.2944-0.03516=0.2592   \n",
              "0.20  0.2578-0.03123=0.2266  0.2002-0.02813=0.1721  0.2667-0.03091=0.2358   \n",
              "0.25  0.2266-0.02773=0.1988  0.2395-0.02883=0.2107   0.217-0.02713=0.1899   \n",
              "\n",
              "               1.000000e-06           1.000000e-07  \n",
              "0.10  0.3681-0.03714=0.3309    0.3427-0.048=0.2947  \n",
              "0.15   0.2901-0.0345=0.2556  0.2516-0.03229=0.2193  \n",
              "0.20   0.2182-0.02718=0.191  0.2286-0.02934=0.1993  \n",
              "0.25  0.2156-0.02833=0.1873   0.224-0.02878=0.1952  "
            ]
          },
          "execution_count": 162,
          "metadata": {},
          "output_type": "execute_result"
        }
      ],
      "source": [
        "pd.DataFrame(result,index=lr_n,columns=wd_n)"
      ]
    },
    {
      "cell_type": "code",
      "execution_count": 163,
      "metadata": {
        "id": "tsj1hzPns_in"
      },
      "outputs": [],
      "source": [
        "model=nn.Sequential(nn.Linear(xtrain.shape[1],64),\n",
        "                    nn.ReLU(),nn.Linear(64,32),\n",
        "                    nn.ReLU(),nn.Linear(32,16),\n",
        "                    nn.ReLU(),nn.Linear(16,7),nn.Softmax())\n",
        "optimizer=optim.SGD(model.parameters(),lr=0.1,weight_decay=1e-4)"
      ]
    },
    {
      "cell_type": "code",
      "execution_count": 164,
      "metadata": {
        "id": "alwjt1J9tEbZ"
      },
      "outputs": [],
      "source": [
        "model=model.to(device)"
      ]
    },
    {
      "cell_type": "code",
      "execution_count": 165,
      "metadata": {
        "colab": {
          "base_uri": "https://localhost:8080/"
        },
        "id": "MrvLm-pWtIGk",
        "outputId": "8816a421-433f-4f4e-e84c-6ab717d0341e"
      },
      "outputs": [
        {
          "name": "stderr",
          "output_type": "stream",
          "text": [
            "Epoch0:   0%|          | 0/238 [00:00<?, ?batch/s]/home/ahmadreza/anaconda3/lib/python3.9/site-packages/torch/nn/modules/container.py:204: UserWarning: Implicit dimension choice for softmax has been deprecated. Change the call to include dim=X as an argument.\n",
            "  input = module(input)\n",
            "Epoch0: 100%|██████████| 238/238 [00:01<00:00, 200.73batch/s, accuracy=73.8, loss=1.5] \n"
          ]
        },
        {
          "name": "stdout",
          "output_type": "stream",
          "text": [
            "valid loss=1.352,accuracy=0.7858\n",
            "\n"
          ]
        },
        {
          "name": "stderr",
          "output_type": "stream",
          "text": [
            "Epoch1: 100%|██████████| 238/238 [00:01<00:00, 200.82batch/s, accuracy=82.5, loss=1.33]\n"
          ]
        },
        {
          "name": "stdout",
          "output_type": "stream",
          "text": [
            "valid loss=1.298,accuracy=0.8439\n",
            "\n"
          ]
        },
        {
          "name": "stderr",
          "output_type": "stream",
          "text": [
            "Epoch2: 100%|██████████| 238/238 [00:01<00:00, 202.85batch/s, accuracy=94.2, loss=1.26]\n"
          ]
        },
        {
          "name": "stdout",
          "output_type": "stream",
          "text": [
            "valid loss=1.212,accuracy=0.9753\n",
            "\n"
          ]
        },
        {
          "name": "stderr",
          "output_type": "stream",
          "text": [
            "Epoch3: 100%|██████████| 238/238 [00:01<00:00, 195.91batch/s, accuracy=97.9, loss=1.2] \n"
          ]
        },
        {
          "name": "stdout",
          "output_type": "stream",
          "text": [
            "valid loss=1.194,accuracy=0.9812\n",
            "\n"
          ]
        },
        {
          "name": "stderr",
          "output_type": "stream",
          "text": [
            "Epoch4: 100%|██████████| 238/238 [00:01<00:00, 200.01batch/s, accuracy=98.4, loss=1.19]\n"
          ]
        },
        {
          "name": "stdout",
          "output_type": "stream",
          "text": [
            "valid loss=1.188,accuracy=0.9843\n",
            "\n"
          ]
        },
        {
          "name": "stderr",
          "output_type": "stream",
          "text": [
            "Epoch5: 100%|██████████| 238/238 [00:01<00:00, 199.02batch/s, accuracy=98.5, loss=1.19]\n"
          ]
        },
        {
          "name": "stdout",
          "output_type": "stream",
          "text": [
            "valid loss=1.185,accuracy=0.9867\n",
            "\n"
          ]
        },
        {
          "name": "stderr",
          "output_type": "stream",
          "text": [
            "Epoch6: 100%|██████████| 238/238 [00:01<00:00, 199.39batch/s, accuracy=98.7, loss=1.18]\n"
          ]
        },
        {
          "name": "stdout",
          "output_type": "stream",
          "text": [
            "valid loss=1.182,accuracy=0.9868\n",
            "\n"
          ]
        },
        {
          "name": "stderr",
          "output_type": "stream",
          "text": [
            "Epoch7: 100%|██████████| 238/238 [00:01<00:00, 199.26batch/s, accuracy=98.9, loss=1.18]\n"
          ]
        },
        {
          "name": "stdout",
          "output_type": "stream",
          "text": [
            "valid loss=1.178,accuracy=0.9906\n",
            "\n"
          ]
        },
        {
          "name": "stderr",
          "output_type": "stream",
          "text": [
            "Epoch8: 100%|██████████| 238/238 [00:01<00:00, 208.35batch/s, accuracy=99.3, loss=1.18]\n"
          ]
        },
        {
          "name": "stdout",
          "output_type": "stream",
          "text": [
            "valid loss=1.177,accuracy=0.9932\n",
            "\n"
          ]
        },
        {
          "name": "stderr",
          "output_type": "stream",
          "text": [
            "Epoch9: 100%|██████████| 238/238 [00:01<00:00, 208.41batch/s, accuracy=99.4, loss=1.18]\n"
          ]
        },
        {
          "name": "stdout",
          "output_type": "stream",
          "text": [
            "valid loss=1.174,accuracy=0.9955\n",
            "\n"
          ]
        },
        {
          "name": "stderr",
          "output_type": "stream",
          "text": [
            "Epoch10: 100%|██████████| 238/238 [00:01<00:00, 186.21batch/s, accuracy=99.5, loss=1.17]\n"
          ]
        },
        {
          "name": "stdout",
          "output_type": "stream",
          "text": [
            "valid loss=1.173,accuracy=0.9951\n",
            "\n"
          ]
        },
        {
          "name": "stderr",
          "output_type": "stream",
          "text": [
            "Epoch11: 100%|██████████| 238/238 [00:01<00:00, 174.67batch/s, accuracy=99.5, loss=1.17]\n"
          ]
        },
        {
          "name": "stdout",
          "output_type": "stream",
          "text": [
            "valid loss=1.173,accuracy=0.9953\n",
            "\n"
          ]
        },
        {
          "name": "stderr",
          "output_type": "stream",
          "text": [
            "Epoch12: 100%|██████████| 238/238 [00:01<00:00, 184.48batch/s, accuracy=99.5, loss=1.17]\n"
          ]
        },
        {
          "name": "stdout",
          "output_type": "stream",
          "text": [
            "valid loss=1.173,accuracy=0.9955\n",
            "\n"
          ]
        },
        {
          "name": "stderr",
          "output_type": "stream",
          "text": [
            "Epoch13: 100%|██████████| 238/238 [00:01<00:00, 212.44batch/s, accuracy=99.5, loss=1.17]\n"
          ]
        },
        {
          "name": "stdout",
          "output_type": "stream",
          "text": [
            "valid loss=1.172,accuracy=0.9954\n",
            "\n"
          ]
        },
        {
          "name": "stderr",
          "output_type": "stream",
          "text": [
            "Epoch14: 100%|██████████| 238/238 [00:01<00:00, 201.61batch/s, accuracy=99.5, loss=1.17]\n"
          ]
        },
        {
          "name": "stdout",
          "output_type": "stream",
          "text": [
            "valid loss=1.172,accuracy=0.9953\n",
            "\n"
          ]
        },
        {
          "name": "stderr",
          "output_type": "stream",
          "text": [
            "Epoch15: 100%|██████████| 238/238 [00:01<00:00, 201.65batch/s, accuracy=99.5, loss=1.17]\n"
          ]
        },
        {
          "name": "stdout",
          "output_type": "stream",
          "text": [
            "valid loss=1.172,accuracy=0.9953\n",
            "\n"
          ]
        },
        {
          "name": "stderr",
          "output_type": "stream",
          "text": [
            "Epoch16: 100%|██████████| 238/238 [00:01<00:00, 209.18batch/s, accuracy=99.5, loss=1.17]\n"
          ]
        },
        {
          "name": "stdout",
          "output_type": "stream",
          "text": [
            "valid loss=1.172,accuracy=0.9953\n",
            "\n"
          ]
        },
        {
          "name": "stderr",
          "output_type": "stream",
          "text": [
            "Epoch17: 100%|██████████| 238/238 [00:01<00:00, 196.50batch/s, accuracy=99.5, loss=1.17]\n"
          ]
        },
        {
          "name": "stdout",
          "output_type": "stream",
          "text": [
            "valid loss=1.172,accuracy=0.9953\n",
            "\n"
          ]
        },
        {
          "name": "stderr",
          "output_type": "stream",
          "text": [
            "Epoch18: 100%|██████████| 238/238 [00:01<00:00, 200.81batch/s, accuracy=99.5, loss=1.17]\n"
          ]
        },
        {
          "name": "stdout",
          "output_type": "stream",
          "text": [
            "valid loss=1.171,accuracy=0.9954\n",
            "\n"
          ]
        },
        {
          "name": "stderr",
          "output_type": "stream",
          "text": [
            "Epoch19: 100%|██████████| 238/238 [00:01<00:00, 187.25batch/s, accuracy=99.5, loss=1.17]\n"
          ]
        },
        {
          "name": "stdout",
          "output_type": "stream",
          "text": [
            "valid loss=1.171,accuracy=0.9954\n",
            "\n"
          ]
        },
        {
          "name": "stderr",
          "output_type": "stream",
          "text": [
            "Epoch20: 100%|██████████| 238/238 [00:01<00:00, 208.92batch/s, accuracy=99.5, loss=1.17]\n"
          ]
        },
        {
          "name": "stdout",
          "output_type": "stream",
          "text": [
            "valid loss=1.171,accuracy=0.9955\n",
            "\n"
          ]
        },
        {
          "name": "stderr",
          "output_type": "stream",
          "text": [
            "Epoch21: 100%|██████████| 238/238 [00:01<00:00, 190.96batch/s, accuracy=99.5, loss=1.17]\n"
          ]
        },
        {
          "name": "stdout",
          "output_type": "stream",
          "text": [
            "valid loss=1.171,accuracy=0.9956\n",
            "\n"
          ]
        },
        {
          "name": "stderr",
          "output_type": "stream",
          "text": [
            "Epoch22: 100%|██████████| 238/238 [00:01<00:00, 182.39batch/s, accuracy=99.5, loss=1.17]\n"
          ]
        },
        {
          "name": "stdout",
          "output_type": "stream",
          "text": [
            "valid loss=1.171,accuracy=0.9956\n",
            "\n"
          ]
        },
        {
          "name": "stderr",
          "output_type": "stream",
          "text": [
            "Epoch23: 100%|██████████| 238/238 [00:01<00:00, 207.03batch/s, accuracy=99.5, loss=1.17]\n"
          ]
        },
        {
          "name": "stdout",
          "output_type": "stream",
          "text": [
            "valid loss=1.171,accuracy=0.9955\n",
            "\n"
          ]
        },
        {
          "name": "stderr",
          "output_type": "stream",
          "text": [
            "Epoch24: 100%|██████████| 238/238 [00:01<00:00, 205.75batch/s, accuracy=99.5, loss=1.17]\n"
          ]
        },
        {
          "name": "stdout",
          "output_type": "stream",
          "text": [
            "valid loss=1.171,accuracy=0.9956\n",
            "\n"
          ]
        }
      ],
      "source": [
        "N=25\n",
        "acc_train_hist,loss_train_hist=[],[]\n",
        "acc_valid_hist,loss_valid_hist=[],[]\n",
        "\n",
        "for i in range(N):\n",
        "\n",
        "  model,train_loss,train_acc=train_one_epoch(model,train_loader,loss_func,optimizer,i)\n",
        "  valid_loss,valid_acc=validation(model,valid_loader,loss_func)\n",
        "\n",
        "  acc_train_hist.append(train_acc)\n",
        "  loss_train_hist.append(train_loss)\n",
        "\n",
        "  acc_valid_hist.append(valid_acc)\n",
        "  loss_valid_hist.append(valid_loss)"
      ]
    },
    {
      "cell_type": "code",
      "execution_count": 166,
      "metadata": {
        "colab": {
          "base_uri": "https://localhost:8080/",
          "height": 279
        },
        "id": "3IhW-OkruNIS",
        "outputId": "8f38ae72-0494-4d27-ece6-bb5aed733c32"
      },
      "outputs": [
        {
          "data": {
            "image/png": "[encoded data removed]",
            "text/plain": [
              "<Figure size 432x288 with 1 Axes>"
            ]
          },
          "metadata": {
            "needs_background": "light"
          },
          "output_type": "display_data"
        }
      ],
      "source": [
        "plt.plot(range(N),loss_train_hist,label='train loss')\n",
        "plt.plot(range(N),loss_valid_hist,label='valid loss')\n",
        "plt.grid()\n",
        "plt.xlabel('Epoch')\n",
        "plt.ylabel('Loss')\n",
        "plt.legend()\n",
        "plt.show()"
      ]
    },
    {
      "cell_type": "code",
      "execution_count": 167,
      "metadata": {
        "id": "snD8IY6XgnSz"
      },
      "outputs": [],
      "source": [
        "#good fit"
      ]
    },
    {
      "cell_type": "code",
      "execution_count": 168,
      "metadata": {
        "colab": {
          "base_uri": "https://localhost:8080/",
          "height": 282
        },
        "id": "4Dq5Qo2HvRHa",
        "outputId": "3b7595c1-6b2c-42ae-c3b3-f22b4a063117"
      },
      "outputs": [
        {
          "data": {
            "image/png": "[encoded data removed]",
            "text/plain": [
              "<Figure size 432x288 with 1 Axes>"
            ]
          },
          "metadata": {
            "needs_background": "light"
          },
          "output_type": "display_data"
        }
      ],
      "source": [
        "plt.plot(range(N),acc_train_hist,label='train accuracy')\n",
        "plt.plot(range(N),acc_valid_hist,label='valid accuracy')\n",
        "plt.grid()\n",
        "plt.xlabel('Epoch')\n",
        "plt.ylabel('Accuracy')\n",
        "plt.legend()\n",
        "plt.show()"
      ]
    },
    {
      "cell_type": "code",
      "execution_count": 169,
      "metadata": {
        "id": "yjJlkSakvdRW"
      },
      "outputs": [],
      "source": [
        "tc.save(model,'model.pth')"
      ]
    },
    {
      "cell_type": "code",
      "execution_count": 170,
      "metadata": {
        "id": "iDP7bUf7BIS0"
      },
      "outputs": [],
      "source": [
        "ypred=model(xtest.to(device)).cpu()"
      ]
    },
    {
      "cell_type": "code",
      "execution_count": 171,
      "metadata": {
        "id": "Ln9HLF7NBN9n"
      },
      "outputs": [],
      "source": [
        "ypred_save=[]\n",
        "for i in ypred:\n",
        "  b=max(i)\n",
        "  for j in range(len(i)):\n",
        "    if i[j]==b:\n",
        "      ypred_save.append(j)"
      ]
    },
    {
      "cell_type": "code",
      "execution_count": 172,
      "metadata": {
        "id": "cmslTJNLDcl3"
      },
      "outputs": [],
      "source": [
        "df_prediction=pd.DataFrame(ypred_save,columns=['pred'])+1"
      ]
    },
    {
      "cell_type": "code",
      "execution_count": 173,
      "metadata": {
        "id": "9A1pFvzxJ7yy"
      },
      "outputs": [],
      "source": [
        "df_prediction.to_csv('/home/ahmadreza/git/rep5/dataset/prediction.csv')"
      ]
    }
  ],
  "metadata": {
    "colab": {
      "provenance": []
    },
    "kernelspec": {
      "display_name": "base",
      "language": "python",
      "name": "python3"
    },
    "language_info": {
      "codemirror_mode": {
        "name": "ipython",
        "version": 3
      },
      "file_extension": ".py",
      "mimetype": "text/x-python",
      "name": "python",
      "nbconvert_exporter": "python",
      "pygments_lexer": "ipython3",
      "version": "3.9.12"
    },
    "vscode": {
      "interpreter": {
        "hash": "d478f2b155118de22769e18c606f2fc6fbef083591a0239b8d3da966eb9f00a4"
      }
    }
  },
  "nbformat": 4,
  "nbformat_minor": 0
}
